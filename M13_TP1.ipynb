{
 "cells": [
  {
   "cell_type": "markdown",
   "id": "UtZBXCxdajr1",
   "metadata": {
    "id": "UtZBXCxdajr1"
   },
   "source": [
    "**Diplomatura en Ciencia de Datos, Aprendizaje Automático y sus Aplicaciones**\n",
    "\n",
    "---\n",
    "\n",
    "Mentoría #13 - Cómo hacer un Clasificador de Pliegos todoterreno (y de otros tipos de textos) usando NLP\n",
    "\n",
    "---\n",
    "Integrantes Grupo [1|2]:\n",
    "*   Franco Manini: francoamaninig@gmail.com\n",
    "*   Santiago Rosa: santiago.rosa@mi.unc.edu.ar\n",
    "*   Gonza\n",
    "*   Sofia\n",
    "---\n",
    "\n",
    "Edición 2023\n"
   ]
  },
  {
   "cell_type": "markdown",
   "id": "7b86f66f",
   "metadata": {
    "id": "7b86f66f"
   },
   "source": [
    "# Introducción\n",
    "\n",
    "En esta Mentoría, trabajaremos con un conjunto de datos que comprende aproximadamente 100.000 pliegos y licitaciones de diversos organismos nacionales, tanto públicos como privados. Estos datos se obtuvieron de un sistema/servicio diseñado para monitorear oportunidades de negocios, capturar la información en una base de datos, normalizarla y, posteriormente, clasificarla para informar a los usuarios según sus áreas de interés. Los usuarios de este sistema reciben alertas automáticas cada vez que se publica una oportunidad comercial que coincide con su perfil.\n",
    "\n",
    "## Desafío\n",
    "\n",
    "Como parte del proceso de clasificación, los pliegos se etiquetan utilizando principalmente reglas estáticas, como palabras clave, lo cual deja margen para optimizaciones. El título de cada pliego y principalmente la descripción de los objetos que se están licitando son campos de tipo texto y escritos por personas, por lo que naturalmente presentan ambigüedades y características propias del lenguaje que llevan a que un enfoque rígido y estático de clasificación, como el actual, resulte limitado y poco eficiente.\n",
    "\n",
    "El Desafío es utilizar las técnicas de Aprendizaje Automático, logrando así un \"Clasificador\" que utilice técnicas de Procesamiento de Lenguaje Natural (NLP) para clasificar de manera más eficiente en qué rubro o categoría se encuentra un pliego, basándose en su texto descriptivo y otros campos relacionados.\n",
    "\n",
    "## Interés General\n",
    "\n",
    "Más allá de la aplicación específica en este conjunto de datos, este problema, al estar vinculado al Procesamiento de Lenguaje Natural (PLN) y la clasificación, tiene la ventaja de poder ser utilizado posteriormente para otros tipos de contenido. De esta manera, el clasificador desarrollado podría aplicarse para categorizar libros, noticias, textos, tweets, publicaciones, artículos, etc.\n",
    "\n",
    "## Descripción del dataset\n",
    "\n",
    "A continuación se enumeran las diferentes variables del dataset, así como una breve descripción de su significado:\n",
    "\n",
    "- **id**: Clave única y primaria autoincremental de la tabla;\n",
    "- **cargado**: Fecha de carga del pliego;\n",
    "- **idexterno**: Id del pliego en la fuente;\n",
    "- **referencia**: Campo auxiliar obtenido de la fuente;\n",
    "- **objeto**: Campo principal, descripción del producto o servicio objeto de la licitación;\n",
    "- **rubro**: Campo de categorización disponible en la fuente. No siempre está disponible;\n",
    "- **agencia**: Empresa o Ente que lanza la licitación;\n",
    "- **apertura**: Fecha de apertura del pliego (vencimiento para presentarse al pliego);\n",
    "- **subrubro**: Subcategoría del pliego (también obtenido desde la fuente);\n",
    "- **pais**: País donde se lanza la licitación;\n",
    "- **observaciones**: Campo auxiliar donde se guardan datos extra que puede variar según la fuente;\n",
    "- **monto**: Monto del pliego, no siempre está publicado;\n",
    "- **divisaSimboloISO**: Moneda en la que se especifica el pliego;\n",
    "- **visible**: campo binario que determina si el pliego va a ser visualizado por el sistema (True/False);\n",
    "- **categoría**: Tipo de pliego, categorización entre diversos tipos de pliegos (Compra Directa, Licitación Simple, Subasta, etc.);\n",
    "- **fuente**: Fuente de donde se obtuvo la licitación."
   ]
  },
  {
   "cell_type": "markdown",
   "id": "eaImQfxeYd8Z",
   "metadata": {
    "id": "eaImQfxeYd8Z"
   },
   "source": [
    "# Trabajo Práctico #1\n",
    "\n",
    "Como primer trabajo práctico se requiere hacer un análisis exploratorio del dataset, analizando distribuciones, dispersión de las variables, naturaleza de los datos alojados en cada variable, etc. Es una primera aproximación a los datos, por lo que, como todo trabajo de exploración, requiere principalmente de técnicas de visualización, agrupación y lectura de las distintas variables.\n",
    "\n",
    "A continuación se enumeran los ejercicios propuestos como guía:"
   ]
  },
  {
   "cell_type": "markdown",
   "id": "EXILjx8pd2zb",
   "metadata": {
    "id": "EXILjx8pd2zb"
   },
   "source": [
    "## Ejercicio 1: Descripción\n",
    "\n",
    "Hacer una descripción propia del dataset a modo de resumen, resaltando las variables que se consideran más importantes.\n",
    "\n",
    "Describir las principales variables según las características de los datos, por ejemplo, explorar la distribución de los valores, la característica de los mismos, explorar el conjunto para evidenciar si existen valores faltantes.\n",
    "\n",
    "De preferencia, utilizar visualizaciones en esta etapa de exploración"
   ]
  },
  {
   "cell_type": "markdown",
   "id": "07xb2chXeBjx",
   "metadata": {
    "id": "07xb2chXeBjx"
   },
   "source": [
    "## Ejercicio 2: Exploración\n",
    "\n",
    "Analizar ahora con mayor detalle las variables importantes dentro del conjunto:\n",
    "\n",
    "*   Hay variables numéricas?\n",
    "*   Son del tipo contínuo o discreta\n",
    "*   Hay variables categóricas?\n",
    "*   Hay variables \"derivadas\" de otras variables\n",
    "*   En las variables de tipo texto, es homogénea la longitud de los datos?\n",
    "*   Hay registros con mayor longitud que otros?\n",
    "*   Representará esto un problema a tratar más adelante?\n",
    "*   Existen desbalances en la distribución o son los datos homogéneos?\n",
    "*   Existen datos faltantes?\n",
    "\n",
    "Nuevamente, utilizar las preguntas descriptas como guía para la exploración y hacer gráficas y visualizaciones como forma práctica de evidenciar lo observado."
   ]
  },
  {
   "cell_type": "markdown",
   "id": "rpbtM0BGkWQ4",
   "metadata": {
    "id": "rpbtM0BGkWQ4"
   },
   "source": [
    "## Ejercicio 3: Análisis\n",
    "\n",
    "A partir de los datos y de la exploración realizada, qué podemos anticipar en relación a las variables *rubro* y *subrubro*?\n",
    "\n",
    "Están siempre presentes? Representan algún tipo de desbalanceo?\n",
    "\n",
    "Existen pliegos con más de una categorización en la fuente de origen? Qué distribución hay en ese caso?\n",
    "\n",
    "Nota: Aquí ya nos topamos con una de las problemáticas del dataset. Es esta categorización en origen \"confiable\"? Qué posturas podemos tomar frente a estas etiquetas originales?\n",
    "\n",
    "Describir en forma de texto la postura del Grupo respecto a estas variables y a posibles estrategias para abordarlas en adelante. Este será un factor muy importante cuando comencemos a preparar el dataset para alimentar los modelos de clasificación."
   ]
  },
  {
   "cell_type": "markdown",
   "id": "14b56da7",
   "metadata": {
    "id": "14b56da7"
   },
   "source": [
    "# Desarrollo"
   ]
  },
  {
   "cell_type": "code",
   "execution_count": null,
   "id": "XbgaB6JqjjWy",
   "metadata": {
    "id": "XbgaB6JqjjWy"
   },
   "outputs": [],
   "source": [
    "# Link al dataset: https://drive.google.com/file/d/1jo9cZNHAPpsTosW-2JA4CLo4SaFCHfIs/view?usp=drive_link"
   ]
  },
  {
   "cell_type": "markdown",
   "id": "77a1a3e7",
   "metadata": {},
   "source": [
    "Veamos la pinta del dataset:"
   ]
  },
  {
   "cell_type": "code",
   "execution_count": null,
   "id": "BMcav1-2aaJP",
   "metadata": {
    "colab": {
     "base_uri": "https://localhost:8080/",
     "height": 821
    },
    "id": "BMcav1-2aaJP",
    "outputId": "752b64bc-aa66-4fb1-c0dd-5a387d8fd961"
   },
   "outputs": [],
   "source": [
    "import pandas as pd\n",
    "import missingno as msno\n",
    "import matplotlib.pyplot as plt\n",
    "import numpy as np\n",
    "\n",
    "pd.set_option('display.max_rows', None)\n",
    "\n",
    "df = pd.read_csv(\"./Mentoria_Dataset_0.csv\" , encoding='latin-1')\n",
    "\n",
    "df.head()\n",
    "\n",
    "#print(df['fuente'].unique())\n",
    "#print(df['agencia'].unique())\n",
    "\n",
    "#print(len(df))\n"
   ]
  },
  {
   "cell_type": "markdown",
   "id": "46036e15",
   "metadata": {},
   "source": [
    "detalles del dataset: 16 columnas, 104999 filas.\n",
    "\n",
    "# columnas que consideramos relevantes: \n",
    "\n",
    "* objeto\n",
    "* rubro\n",
    "* agencia\n",
    "* fuente\n",
    "* apertura\n",
    "* monto\n",
    "* categoria\n",
    "* idexterno\n",
    "\n",
    "\n",
    "# datos redundantes: \n",
    "\n",
    "* idexterno: es una variable compuesta (referencia + subrubro)\n",
    "* pais: son todos los pliegos de Argentina\n",
    "* fecha de carga: irrelevante, importa más la comparada con fecha del pliego\n",
    "* divisaSimboloISO: incompleta, se asume que todo está en pesos\n",
    "* subrubro: incompleta\n",
    "* observaciones: muy incompleta\n",
    "* indice: es el mismo index de pandas\n",
    "\n"
   ]
  },
  {
   "cell_type": "markdown",
   "id": "e16de64d",
   "metadata": {},
   "source": [
    "# Datos faltantes\n",
    "\n",
    "Nos fijamos usando missingno los datos faltantes. Vemos que no todas las entradas tienen un valor en 'monto'.\n",
    "\n",
    "\n",
    "Consigna: explorar la distribución de los valores, la característica de los mismos, explorar el conjunto para evidenciar si existen valores faltantes."
   ]
  },
  {
   "cell_type": "code",
   "execution_count": null,
   "id": "704a64a2",
   "metadata": {},
   "outputs": [],
   "source": [
    "rel_col = [\"objeto\",'rubro','agencia',\"fuente\",'apertura','monto','categoria','idexterno']\n",
    "\n",
    "fig, axs = plt.subplots(figsize=(6, 5))\n",
    "msno.bar(df[rel_col], sort=\"ascending\", fontsize=12, color=\"tab:green\", ax=axs)\n",
    "#axs.set_ylim(0.8, 1)\n",
    "plt.show()"
   ]
  },
  {
   "cell_type": "markdown",
   "id": "46f1fba8",
   "metadata": {},
   "source": [
    "Ahora nos fijamos en la descripción de las principales variables elegidas:\n",
    "\n"
   ]
  },
  {
   "cell_type": "code",
   "execution_count": null,
   "id": "0d55edc0",
   "metadata": {},
   "outputs": [],
   "source": [
    "print(df['rubro'].unique())\n",
    "print('rubro: ',len(df['rubro'].unique()))\n",
    "print('objeto: ',len(df['objeto'].unique()))\n",
    "print('agencia: ',len(df['agencia'].unique()))\n",
    "print('fuente: ',len(df['fuente'].unique()))\n",
    "print('apertura: ',len(df['apertura'].unique()))\n",
    "print('monto: ',len(df['monto'].unique()))\n",
    "print('categoria: ',len(df['categoria'].unique()))\n",
    "print('idexterno: ',len(df['idexterno'].unique()))\n"
   ]
  },
  {
   "cell_type": "markdown",
   "id": "a9b4ff67",
   "metadata": {},
   "source": [
    "Ahora nos fijamos en la cantidad de entradas que tienen las columnas fuente, categoria y visible:\n",
    "\n",
    "## duda: qué es cada categoría?\n",
    "\n",
    "## proposición: \n",
    "* filtrar las variables 'categoría' y 'visible', dado que son variables binarias muy sesgadas (quedarnos en ambos casos con 1).\n",
    "* Trabajar la variable 'monto', que está bastante fea\n",
    "* Hacer una columna nueva con la longitud de la string de la variable 'objeto', y hacer un histograma\n",
    "* filtrar apertura por mes o año, para disminuir la cantidad de entradas distintas\n",
    "* ver que las fechas de cargado estén llenas de la misma forma\n",
    "* ver que las entradas de 'agencia' estén bien escritas y que no haya repetidas pero mal escritas\n",
    "* damos por hecho que todo es de argentina"
   ]
  },
  {
   "cell_type": "code",
   "execution_count": null,
   "id": "69284dfb",
   "metadata": {},
   "outputs": [],
   "source": [
    "frecuencia_fuente = df['fuente'].value_counts()\n",
    "plt.bar(frecuencia_fuente.index, frecuencia_fuente.values)\n",
    "plt.xticks(rotation=90)\n",
    "plt.xlabel('Fuente')\n",
    "plt.ylabel('Frecuencia')\n",
    "plt.title('Grafico de barras de las fuentes')\n",
    "plt.show()\n"
   ]
  },
  {
   "cell_type": "markdown",
   "id": "aed5e734",
   "metadata": {},
   "source": [
    "En el siguiente análisis, vemos que la variable \"categoría\" es binaria, y la gran cantidad de entradas es 1. Descartamos esta variable para futuros modelos."
   ]
  },
  {
   "cell_type": "code",
   "execution_count": null,
   "id": "174f56f6",
   "metadata": {},
   "outputs": [],
   "source": [
    "print(df['categoria'].unique())\n",
    "\n",
    "frecuencia_categoria = df['categoria'].value_counts()\n",
    "plt.bar(frecuencia_categoria.index, frecuencia_categoria.values)\n",
    "plt.xticks([1,2],  ['1','2'])\n",
    "plt.xlabel('Categorias')\n",
    "plt.ylabel('Frecuencia')\n",
    "plt.title('Grafico de barras de las categorías')\n",
    "plt.legend()\n",
    "plt.show()\n",
    "\n",
    "#tiro los que tienen categoria 2\n",
    "df1 = df[df['categoria']==1]\n"
   ]
  },
  {
   "cell_type": "markdown",
   "id": "2ec6b99b",
   "metadata": {},
   "source": [
    "Mismo análisis que para la variable \"categoría\" pero para la variable \"visibilidad\". Descartamos esta variable dado que predomina claramente una entrada (la visible). "
   ]
  },
  {
   "cell_type": "code",
   "execution_count": null,
   "id": "44febc8e",
   "metadata": {
    "scrolled": false
   },
   "outputs": [],
   "source": [
    "frecuencia_vis = df1['visible'].value_counts()\n",
    "plt.bar(frecuencia_vis.index, frecuencia_vis.values)\n",
    "plt.xticks([0,1],  ['0','1'])\n",
    "plt.xlabel('Visible')\n",
    "plt.ylabel('Frecuencia')\n",
    "plt.title('Grafico de barras de la visibilidad')\n",
    "plt.show()\n",
    "\n",
    "#tiro los que tienen visibilidad 0\n",
    "df2 = df1[df1['categoria']==1]\n"
   ]
  },
  {
   "cell_type": "markdown",
   "id": "5c350782",
   "metadata": {},
   "source": [
    "Analizamos ahora la distribución de fechas de inicio de los pliegos. Hay cuatro fechas conflictivas, las descarto.\n",
    "\n",
    "Tiro las horas para ver si se agiliza el cálculo del histograma e una primera instancia. Además, siguen habiendo o fechas muy viejas o fechas futuras que no tienen. Tiro los pliegos que tienen fechas anteriores a 2015 (ya que los más viejos no tienen peso en el histograma) y los que tienen fecha después de la fecha de hoy. "
   ]
  },
  {
   "cell_type": "code",
   "execution_count": null,
   "id": "c1aab073",
   "metadata": {},
   "outputs": [],
   "source": [
    "today_date = pd.Timestamp.today().date()\n",
    "min_date = pd.to_datetime('13/12/2015')\n",
    "df3 = df2.copy()\n",
    "df3.reset_index(inplace=True)  #reseteo indices, es util cuando indice=nro de fila\n",
    "\n",
    "#fechas malas que encontramos:\n",
    "fecha_mala1 = df3['apertura'][62]\n",
    "fecha_mala2 = df3['apertura'][2025]\n",
    "fecha_mala3 = df3['apertura'][11907]\n",
    "# fecha_mala4 = df3['apertura'][12375]\n",
    "\n",
    "\n",
    "print(fecha_mala1)\n",
    "print(fecha_mala2)\n",
    "print(fecha_mala3)\n",
    "\n",
    "# #remuevo las fechas malas\n",
    "df3 = df3.drop(df3[df3['apertura'] == fecha_mala1].index)\n",
    "df3 = df3.drop(df3[df3['apertura'] == fecha_mala2].index)\n",
    "df3 = df3.drop(df3[df3['apertura'] == fecha_mala3].index)\n",
    "\n",
    "#convierto a formato datetime para hacer un histograma\n",
    "df3['apertura'] = pd.to_datetime(df3['apertura'],format='%d/%m/%Y %H:%M')\n",
    "df3['apertura'] = df3['apertura'].dt.tz_localize(None)\n",
    "df3['apertura'] = df3['apertura'].dt.date\n",
    "\n",
    "#histograma con outliers\n",
    "plt.hist(df3['apertura'], edgecolor='black')\n",
    "plt.xticks(rotation=90)\n",
    "plt.xlabel('fecha de inicio')\n",
    "plt.ylabel('Frecuencia')\n",
    "plt.title('Histograma de inicio de pliegos - sin filtrar')\n",
    "plt.show()\n",
    "\n",
    "#remuevo outliers\n",
    "df3 = df3.drop(df3[df3['apertura'] > today_date].index)\n",
    "df3 = df3.drop(df3[df3['apertura'] < min_date].index)\n",
    "\n",
    "#histograma sin outliers\n",
    "plt.hist(df3['apertura'], edgecolor='black')\n",
    "plt.xticks(rotation=90)\n",
    "plt.xlabel('fecha de inicio')\n",
    "plt.ylabel('Frecuencia')\n",
    "plt.title('Histograma de inicio de pliegos - filtrado')\n",
    "plt.show()"
   ]
  },
  {
   "cell_type": "markdown",
   "id": "59a77fbe",
   "metadata": {},
   "source": [
    "Ahora analizamos la columna 'objeto'. Es una columna de strings donde se especifica el detalle del pliego. Veamos la distribución de cantidad de caracteres:"
   ]
  },
  {
   "cell_type": "code",
   "execution_count": null,
   "id": "9adb3552",
   "metadata": {},
   "outputs": [],
   "source": [
    "df3['longitud'] = df3['objeto'].str.len()\n",
    "\n",
    "Q1=df3['longitud'].quantile(0.25)\n",
    "Q2=df3['longitud'].quantile(0.50)\n",
    "Q3=df3['longitud'].quantile(0.75)\n",
    "max=df3['longitud'].max()\n",
    "min=df3['longitud'].min()\n",
    "mean=df3['longitud'].mean()\n",
    "print('Media:', mean)\n",
    "print('Max:', max)\n",
    "print('Min:',min)\n",
    "print('Mediana:',Q2)\n",
    "print('Q1:',Q1)\n",
    "print('Q2:',Q2)\n",
    "print('Q3:',Q3)\n",
    "\n",
    "plt.hist(df3['longitud'], bins=30)  \n",
    "plt.xlabel('Longitud de los strings')\n",
    "plt.ylabel('Frecuencia')\n",
    "plt.title('Histograma de longitud de strings')\n",
    "plt.xlim(0,400) #Corto el histograma en 400, aunque llega a 1000 pero son muy pocos casos\n",
    "plt.show()"
   ]
  },
  {
   "cell_type": "markdown",
   "id": "434c443e",
   "metadata": {},
   "source": [
    "Ahora analicemos la columna de montos. Vemos que hay muchos pliegos que se hicieron por muy poca cantidad de dinero, otros donde no hay datos, y otros pliegos gratuitos."
   ]
  },
  {
   "cell_type": "code",
   "execution_count": null,
   "id": "c289cd37",
   "metadata": {},
   "outputs": [],
   "source": [
    "# Trabajo con la columna de montos\n",
    "df4 = df3.copy()\n",
    "\n",
    "valores=df4['monto'].unique()\n",
    "frecuencia_monto = df4['monto'].value_counts()\n",
    "print(frecuencia_monto)"
   ]
  },
  {
   "cell_type": "markdown",
   "id": "c4fc22d2",
   "metadata": {},
   "source": [
    "Hay muchos valores que son iguales pero tienen distinta cantidad de espacios, por lo que removemos todos los espacios. Algunos pliegos están en dólares así que los conviertimos a pesos, usando el valor del dólar oficial. A los pliegos con valor '0' los pasamos a 0 flotante, y \\N a np.nan."
   ]
  },
  {
   "cell_type": "code",
   "execution_count": null,
   "id": "381fec73",
   "metadata": {},
   "outputs": [],
   "source": [
    "#precio del dolar oficial\n",
    "dolar_value = 255\n",
    "\n",
    "df4 = df3.copy()\n",
    "\n",
    "df4['monto'] = df4['monto'].replace(r'\\N', np.nan)\n",
    "df4['monto'] = df4['monto'].replace('0', 0)\n",
    "\n",
    "#remuevo las strings de espacios, pesos y dolares donde las haya. Cambio la representacion de string a float\n",
    "for monto, i in zip(df4['monto'],df4.index):\n",
    "    if \" \" in str(monto):\n",
    "        df4['monto'][i] = str(df4['monto'][i]).replace(' ','')\n",
    "    if \"$\" in str(monto):\n",
    "        df4['monto'][i] = str(df4['monto'][i]).replace('$','')\n",
    "    if \".\" in str(monto):\n",
    "        df4['monto'][i] = str(df4['monto'][i]).replace('.','')\n",
    "    if \",\" in str(monto):\n",
    "        df4['monto'][i] = str(df4['monto'][i]).replace(',','.')    \n",
    "    if \"U$S\" in str(monto):\n",
    "        df4['monto'][i] = str(df4['monto'][i]).replace('US','')\n",
    "        #convierto a pesos y reemplazo la entrada\n",
    "        df4['monto'][i] = float(df4['monto'][i]) * dolar_value  \n",
    "    df4['monto'][i] = float(df4['monto'][i]) \n",
    "        \n"
   ]
  },
  {
   "cell_type": "markdown",
   "id": "d29c5a63",
   "metadata": {},
   "source": [
    "Veamos ahora la distribución de montos en un histograma. El boxplot no da mucha información dado que la escala es muy grande y el promedio del monto del pliego es pequeño en esta escala.\n",
    "\n",
    "Por otro lado, un histograma con bineado logarítmico sí deja ver la distribución de montos.\n",
    "\n",
    "Intuyo que tenemos un crecimiento exponencial de la frecuencia desde el monto 0 hasta cerca del valor medio, y un decrecimiento exponencial desde la media hacia el pliego máximo. Esto es lo que interpreto del gráfico, no tuve tiempo de hacer los ajustes. "
   ]
  },
  {
   "cell_type": "code",
   "execution_count": null,
   "id": "2dda7e8a",
   "metadata": {},
   "outputs": [],
   "source": [
    "import seaborn as sns\n",
    "\n",
    "sns.boxplot(x=df4[df4['monto']>0]['monto'])\n",
    "plt.show()\n",
    "\n",
    "bins = np.logspace(0, 10,base=10,num=100)\n",
    "\n",
    "plt.hist(df4[df4['monto']>0]['monto'], bins=bins)  \n",
    "plt.xlabel('monto')\n",
    "plt.ylabel('Frecuencia')\n",
    "plt.title('Histograma de montos de los pliegos')\n",
    "#plt.ylim(0,1400)\n",
    "plt.xscale(\"log\")\n",
    "plt.yscale(\"log\")\n",
    "plt.show()"
   ]
  }
 ],
 "metadata": {
  "colab": {
   "provenance": [],
   "toc_visible": true
  },
  "kernelspec": {
   "display_name": "Python 3 (ipykernel)",
   "language": "python",
   "name": "python3"
  },
  "language_info": {
   "codemirror_mode": {
    "name": "ipython",
    "version": 3
   },
   "file_extension": ".py",
   "mimetype": "text/x-python",
   "name": "python",
   "nbconvert_exporter": "python",
   "pygments_lexer": "ipython3",
   "version": "3.10.11"
  },
  "varInspector": {
   "cols": {
    "lenName": 16,
    "lenType": 16,
    "lenVar": 40
   },
   "kernels_config": {
    "python": {
     "delete_cmd_postfix": "",
     "delete_cmd_prefix": "del ",
     "library": "var_list.py",
     "varRefreshCmd": "print(var_dic_list())"
    },
    "r": {
     "delete_cmd_postfix": ") ",
     "delete_cmd_prefix": "rm(",
     "library": "var_list.r",
     "varRefreshCmd": "cat(var_dic_list()) "
    }
   },
   "types_to_exclude": [
    "module",
    "function",
    "builtin_function_or_method",
    "instance",
    "_Feature"
   ],
   "window_display": false
  }
 },
 "nbformat": 4,
 "nbformat_minor": 5
}
