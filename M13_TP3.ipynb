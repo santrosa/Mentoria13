{
 "cells": [
  {
   "cell_type": "markdown",
   "id": "UtZBXCxdajr1",
   "metadata": {
    "id": "UtZBXCxdajr1"
   },
   "source": [
    "**Diplomatura en Ciencia de Datos, Aprendizaje Automático y sus Aplicaciones**\n",
    "\n",
    "---\n",
    "\n",
    "Mentoría #13 - Cómo hacer un Clasificador de Pliegos todoterreno (y de otros tipos de textos) usando NLP\n",
    "\n",
    "---\n",
    "Integrantes Grupo [1|2]:\n",
    "*   Bruce Wayne: bruce.w@wayne-entreprises.com\n",
    "*   Alfred Pennyworth: alfred@msn.com\n",
    "*   Richard Grayson: robin_132@gmail.com\n",
    "---\n",
    "\n",
    "Edición 2023\n"
   ]
  },
  {
   "cell_type": "markdown",
   "id": "YGFbz1dvbFI2",
   "metadata": {
    "id": "YGFbz1dvbFI2"
   },
   "source": [
    "# Introducción\n",
    "\n",
    "En esta Mentoría, trabajaremos con un conjunto de datos que comprende aproximadamente 100.000 pliegos y licitaciones de diversos organismos nacionales, tanto públicos como privados. Estos datos se obtuvieron de un sistema/servicio diseñado para monitorear oportunidades de negocios, capturar la información en una base de datos, normalizarla y, posteriormente, clasificarla para informar a los usuarios según sus áreas de interés. Los usuarios de este sistema reciben alertas automáticas cada vez que se publica una oportunidad comercial que coincide con su perfil.\n",
    "\n",
    "## Desafío\n",
    "\n",
    "Como parte del proceso de clasificación, los pliegos se etiquetan utilizando principalmente reglas estáticas, como palabras clave, lo cual deja margen para optimizaciones. El título de cada pliego y principalmente la descripción de los objetos que se están licitando son campos de tipo texto y escritos por personas, por lo que naturalmente presentan ambigüedades y características propias del lenguaje que llevan a que un enfoque rígido y estático de clasificación, como el actual, resulte limitado y poco eficiente.\n",
    "\n",
    "El Desafío es utilizar las técnicas de Aprendizaje Automático, logrando así un \"Clasificador\" que utilice técnicas de Procesamiento de Lenguaje Natural (NLP) para clasificar de manera más eficiente en qué rubro o categoría se encuentra un pliego, basándose en su texto descriptivo y otros campos relacionados.\n",
    "\n",
    "## Interés General\n",
    "\n",
    "Más allá de la aplicación específica en este conjunto de datos, este problema, al estar vinculado al Procesamiento de Lenguaje Natural (PLN) y la clasificación, tiene la ventaja de poder ser utilizado posteriormente para otros tipos de contenido. De esta manera, el clasificador desarrollado podría aplicarse para categorizar libros, noticias, textos, tweets, publicaciones, artículos, etc.\n",
    "\n",
    "## Descripción del dataset\n",
    "\n",
    "A continuación se enumeran las diferentes variables del dataset, así como una breve descripción de su significado:\n",
    "\n",
    "- **id**: Clave única y primaria autoincremental de la tabla;\n",
    "- **cargado**: Fecha de carga del pliego;\n",
    "- **idexterno**: Id del pliego en la fuente;\n",
    "- **referencia**: Campo auxiliar obtenido de la fuente;\n",
    "- **objeto**: Campo principal, descripción del producto o servicio objeto de la licitación;\n",
    "- **rubro**: Campo de categorización disponible en la fuente. No siempre está disponible;\n",
    "- **agencia**: Empresa o Ente que lanza la licitación;\n",
    "- **apertura**: Fecha de apertura del pliego (vencimiento para presentarse al pliego);\n",
    "- **subrubro**: Subcategoría del pliego (también obtenido desde la fuente);\n",
    "- **pais**: País donde se lanza la licitación;\n",
    "- **observaciones**: Campo auxiliar donde se guardan datos extra que puede variar según la fuente;\n",
    "- **monto**: Monto del pliego, no siempre está publicado;\n",
    "- **divisaSimboloISO**: Moneda en la que se especifica el pliego;\n",
    "- **visible**: campo binario que determina si el pliego va a ser visualizado por el sistema (True/False);\n",
    "- **categoría**: Tipo de pliego, categorización entre diversos tipos de pliegos (Compra Directa, Licitación Simple, Subasta, etc.);\n",
    "- **fuente**: Fuente de donde se obtuvo la licitación."
   ]
  },
  {
   "cell_type": "markdown",
   "id": "eaImQfxeYd8Z",
   "metadata": {
    "id": "eaImQfxeYd8Z"
   },
   "source": [
    "# Trabajo Práctico #3\n",
    "\n",
    "El propósito de este último trabajo práctico es poder hacer una aproximación inicial a los conceptos del aprendizaje supervisado.\n",
    "\n",
    "El objetivo no es alcanzar el modelo definitivo con sus parámetros óptimos, sino más bien adquirir práctica en la ejecución de los pasos esenciales dentro de un proceso de aprendizaje supervisado.\n",
    "\n",
    "Desde comprender la pregunta de investigación hasta la preparación de los datos, desde la segmentación del conjunto de datos hasta la evaluación del modelo. Para llevar a cabo esta actividad, emplearemos los conjuntos de datos generados en el TP2\n",
    "\n",
    "A continuación se enumeran los ejercicios propuestos como guía:"
   ]
  },
  {
   "cell_type": "markdown",
   "id": "EXILjx8pd2zb",
   "metadata": {
    "id": "EXILjx8pd2zb"
   },
   "source": [
    "## Ejercicio 1: Limpieza de Datos y Variables\n",
    "A pesar que mucho del trabajo de preparación de los datos ya se realizó en los TPs anteriores, aún falta preparar los datos para poder alimentar un modelo de clasificación. Aplicar técnicas de transformación, encoding y escalado (si hace falta)."
   ]
  },
  {
   "cell_type": "markdown",
   "id": "rpbtM0BGkWQ4",
   "metadata": {
    "id": "rpbtM0BGkWQ4"
   },
   "source": [
    "## Ejercicio 2: Testing de Modelos\n",
    "\n",
    "Para modelar una clasificación multi-clase existen diversas opciones. Explorar modelos de clasificación binaria aplicando técnicas OvR, OvO, etc. Elegir 3 modelos diferentes y compararlos.\n",
    "\n",
    "Explorar también otros modelos que tengan múltiples salidas como decision trees, y sus técnicas derivadas (como random forest por ejemplo).\n",
    "\n",
    "La idea es hacer un primer \"barrido\" con diferentes modelos con todos los hiperparámetros con sus valores por default, que permita evaluar qué algoritmo se ajusta mejor al problema, para luego pasar (en el siguiente ejercicio) a una optimización del mejor modelo ajustando los hiperparámetros."
   ]
  },
  {
   "cell_type": "markdown",
   "id": "2i0GCYnYhQE6",
   "metadata": {
    "id": "2i0GCYnYhQE6"
   },
   "source": [
    "## Ejercicio 3: Optimización de Hiperparámetros\n",
    "\n",
    "Evaluar las distintas métricas (precision, recall, f1-score y support) para visualizar la performance del modelo. Armar la matriz de confusión y contrastar los resultados del modelo ya optimizado con los primeros resultados obtenidos con los primeros modelos testeados."
   ]
  },
  {
   "cell_type": "markdown",
   "id": "p50pGhwCrLAJ",
   "metadata": {
    "id": "p50pGhwCrLAJ"
   },
   "source": [
    "## Ejercicio 4: Conclusión\n",
    "Con todo el recorrido realizado, elaborar una conclusión final sobre la mentoría. Dentro de la conclusión, considerar lo que se ha aprendido en las diferentes entregas (TP1 y TP2).\n",
    "\n",
    "Parte de estas conclusiones les servirán también para el video final donde se presente el caso.\n",
    "\n",
    "El video que sigue a este práctico serviría como informe de resultados y observaciones de este práctico, resaltando aprendizajes y problemáticas con las que se hayan encontrado.\n",
    "\n",
    "Recuerden que un buen resultado no implica necesariamente encontrar el mejor algoritmo, sino poder asimilar un proceso de modelado completo, desde el dataset bruto hasta la optimización final."
   ]
  },
  {
   "cell_type": "markdown",
   "id": "14b56da7",
   "metadata": {
    "id": "14b56da7"
   },
   "source": [
    "# Desarrollo"
   ]
  },
  {
   "cell_type": "code",
   "execution_count": null,
   "id": "XbgaB6JqjjWy",
   "metadata": {
    "id": "XbgaB6JqjjWy"
   },
   "outputs": [],
   "source": [
    "# Link al dataset: https://drive.google.com/file/d/1jo9cZNHAPpsTosW-2JA4CLo4SaFCHfIs/view?usp=drive_link"
   ]
  },
  {
   "cell_type": "markdown",
   "id": "0fb57d85",
   "metadata": {},
   "source": [
    "Importo las librerías necesarias:"
   ]
  },
  {
   "cell_type": "code",
   "execution_count": 1,
   "id": "BMcav1-2aaJP",
   "metadata": {
    "id": "BMcav1-2aaJP"
   },
   "outputs": [],
   "source": [
    "import pandas as pd\n",
    "import missingno as msno\n",
    "import matplotlib.pyplot as plt\n",
    "import numpy as np\n",
    "import nltk\n",
    "from nltk.tokenize import word_tokenize\n",
    "from nltk.probability import FreqDist\n",
    "\n",
    "pd.set_option('display.max_rows', None)\n",
    "\n",
    "df = pd.read_csv(\"./dataset_concatenado.csv\" , encoding='latin-1')"
   ]
  },
  {
   "cell_type": "markdown",
   "id": "985320f1",
   "metadata": {},
   "source": [
    "Me aseguro que todo está compuesto por strings"
   ]
  },
  {
   "cell_type": "code",
   "execution_count": 2,
   "id": "cddcc5a6",
   "metadata": {},
   "outputs": [],
   "source": [
    "import pandas as pd\n",
    "df['objeto'] = df['objeto'].astype(str)\n",
    "df['rubro'] = df['rubro'].astype(str)\n",
    "df['agencia'] = df['agencia'].astype(str)"
   ]
  },
  {
   "cell_type": "markdown",
   "id": "ad8cb0d8",
   "metadata": {},
   "source": [
    "Aplico una tokenización"
   ]
  },
  {
   "cell_type": "code",
   "execution_count": 3,
   "id": "2b05b3fd",
   "metadata": {},
   "outputs": [],
   "source": [
    "df['rubro_tokens'] = df['rubro'].apply(lambda x: word_tokenize(x))\n",
    "df['agencia_tokens'] = df['agencia'].apply(lambda x: word_tokenize(x))\n",
    "df['objeto_tokens'] = df['objeto'].apply(lambda x: word_tokenize(x))"
   ]
  },
  {
   "cell_type": "markdown",
   "id": "97d32f76",
   "metadata": {},
   "source": [
    "Veamos cómo va quedando:"
   ]
  },
  {
   "cell_type": "code",
   "execution_count": 4,
   "id": "18ac81bb",
   "metadata": {
    "scrolled": false
   },
   "outputs": [
    {
     "data": {
      "text/html": [
       "<div>\n",
       "<style scoped>\n",
       "    .dataframe tbody tr th:only-of-type {\n",
       "        vertical-align: middle;\n",
       "    }\n",
       "\n",
       "    .dataframe tbody tr th {\n",
       "        vertical-align: top;\n",
       "    }\n",
       "\n",
       "    .dataframe thead th {\n",
       "        text-align: right;\n",
       "    }\n",
       "</style>\n",
       "<table border=\"1\" class=\"dataframe\">\n",
       "  <thead>\n",
       "    <tr style=\"text-align: right;\">\n",
       "      <th></th>\n",
       "      <th>index</th>\n",
       "      <th>referencia</th>\n",
       "      <th>objeto</th>\n",
       "      <th>rubro</th>\n",
       "      <th>agencia</th>\n",
       "      <th>apertura</th>\n",
       "      <th>monto</th>\n",
       "      <th>fuente</th>\n",
       "      <th>rubro_tokens</th>\n",
       "      <th>agencia_tokens</th>\n",
       "      <th>objeto_tokens</th>\n",
       "    </tr>\n",
       "  </thead>\n",
       "  <tbody>\n",
       "    <tr>\n",
       "      <th>0</th>\n",
       "      <td>347</td>\n",
       "      <td>ContrataciÃ³n Directa 464/2017</td>\n",
       "      <td>['bols', 'aliment']</td>\n",
       "      <td>['agric', 'ganaderia', 'caza', 'silvicult']</td>\n",
       "      <td>['com', 'nacional', 'energi', 'atom']</td>\n",
       "      <td>2017-09-29</td>\n",
       "      <td>0.0</td>\n",
       "      <td>Argentinacompra</td>\n",
       "      <td>[[, 'agric, ', ,, 'ganaderia, ', ,, 'caza, ', ...</td>\n",
       "      <td>[[, 'com, ', ,, 'nacional, ', ,, 'energi, ', ,...</td>\n",
       "      <td>[[, 'bols, ', ,, 'aliment, ', ]]</td>\n",
       "    </tr>\n",
       "    <tr>\n",
       "      <th>1</th>\n",
       "      <td>348</td>\n",
       "      <td>Subasta PÃºblica 48/2017</td>\n",
       "      <td>['cabez', 'gan', 'vacun', 'lot', 'novill', 'go...</td>\n",
       "      <td>['agric', 'ganaderia', 'caza', 'silvicult']</td>\n",
       "      <td>['mayor', 'general', 'ejercit']</td>\n",
       "      <td>2017-10-26</td>\n",
       "      <td>0.0</td>\n",
       "      <td>Argentinacompra</td>\n",
       "      <td>[[, 'agric, ', ,, 'ganaderia, ', ,, 'caza, ', ...</td>\n",
       "      <td>[[, 'mayor, ', ,, 'general, ', ,, 'ejercit, ', ]]</td>\n",
       "      <td>[[, 'cabez, ', ,, 'gan, ', ,, 'vacun, ', ,, 'l...</td>\n",
       "    </tr>\n",
       "    <tr>\n",
       "      <th>2</th>\n",
       "      <td>349</td>\n",
       "      <td>Subasta PÃºblica 47/2017</td>\n",
       "      <td>['cabez', 'gan', 'vacun', 'lot', 'novill', 'go...</td>\n",
       "      <td>['agric', 'ganaderia', 'caza', 'silvicult']</td>\n",
       "      <td>['mayor', 'general', 'ejercit']</td>\n",
       "      <td>2017-10-24</td>\n",
       "      <td>0.0</td>\n",
       "      <td>Argentinacompra</td>\n",
       "      <td>[[, 'agric, ', ,, 'ganaderia, ', ,, 'caza, ', ...</td>\n",
       "      <td>[[, 'mayor, ', ,, 'general, ', ,, 'ejercit, ', ]]</td>\n",
       "      <td>[[, 'cabez, ', ,, 'gan, ', ,, 'vacun, ', ,, 'l...</td>\n",
       "    </tr>\n",
       "    <tr>\n",
       "      <th>3</th>\n",
       "      <td>350</td>\n",
       "      <td>Subasta PÃºblica 46/2017</td>\n",
       "      <td>['cabez', 'gan', 'vacun', 'lot', 'vac', 'inver...</td>\n",
       "      <td>['agric', 'ganaderia', 'caza', 'silvicult']</td>\n",
       "      <td>['mayor', 'general', 'ejercit']</td>\n",
       "      <td>2017-10-19</td>\n",
       "      <td>0.0</td>\n",
       "      <td>Argentinacompra</td>\n",
       "      <td>[[, 'agric, ', ,, 'ganaderia, ', ,, 'caza, ', ...</td>\n",
       "      <td>[[, 'mayor, ', ,, 'general, ', ,, 'ejercit, ', ]]</td>\n",
       "      <td>[[, 'cabez, ', ,, 'gan, ', ,, 'vacun, ', ,, 'l...</td>\n",
       "    </tr>\n",
       "    <tr>\n",
       "      <th>4</th>\n",
       "      <td>351</td>\n",
       "      <td>Subasta PÃºblica 45/2017</td>\n",
       "      <td>['cabez', 'gan', 'vacun', 'lot', 'novill', 'go...</td>\n",
       "      <td>['agric', 'ganaderia', 'caza', 'silvicult']</td>\n",
       "      <td>['mayor', 'general', 'ejercit']</td>\n",
       "      <td>2017-10-12</td>\n",
       "      <td>0.0</td>\n",
       "      <td>Argentinacompra</td>\n",
       "      <td>[[, 'agric, ', ,, 'ganaderia, ', ,, 'caza, ', ...</td>\n",
       "      <td>[[, 'mayor, ', ,, 'general, ', ,, 'ejercit, ', ]]</td>\n",
       "      <td>[[, 'cabez, ', ,, 'gan, ', ,, 'vacun, ', ,, 'l...</td>\n",
       "    </tr>\n",
       "  </tbody>\n",
       "</table>\n",
       "</div>"
      ],
      "text/plain": [
       "   index                      referencia  \\\n",
       "0    347  ContrataciÃ³n Directa 464/2017   \n",
       "1    348        Subasta PÃºblica 48/2017   \n",
       "2    349        Subasta PÃºblica 47/2017   \n",
       "3    350        Subasta PÃºblica 46/2017   \n",
       "4    351        Subasta PÃºblica 45/2017   \n",
       "\n",
       "                                              objeto  \\\n",
       "0                                ['bols', 'aliment']   \n",
       "1  ['cabez', 'gan', 'vacun', 'lot', 'novill', 'go...   \n",
       "2  ['cabez', 'gan', 'vacun', 'lot', 'novill', 'go...   \n",
       "3  ['cabez', 'gan', 'vacun', 'lot', 'vac', 'inver...   \n",
       "4  ['cabez', 'gan', 'vacun', 'lot', 'novill', 'go...   \n",
       "\n",
       "                                         rubro  \\\n",
       "0  ['agric', 'ganaderia', 'caza', 'silvicult']   \n",
       "1  ['agric', 'ganaderia', 'caza', 'silvicult']   \n",
       "2  ['agric', 'ganaderia', 'caza', 'silvicult']   \n",
       "3  ['agric', 'ganaderia', 'caza', 'silvicult']   \n",
       "4  ['agric', 'ganaderia', 'caza', 'silvicult']   \n",
       "\n",
       "                                 agencia    apertura  monto           fuente  \\\n",
       "0  ['com', 'nacional', 'energi', 'atom']  2017-09-29    0.0  Argentinacompra   \n",
       "1        ['mayor', 'general', 'ejercit']  2017-10-26    0.0  Argentinacompra   \n",
       "2        ['mayor', 'general', 'ejercit']  2017-10-24    0.0  Argentinacompra   \n",
       "3        ['mayor', 'general', 'ejercit']  2017-10-19    0.0  Argentinacompra   \n",
       "4        ['mayor', 'general', 'ejercit']  2017-10-12    0.0  Argentinacompra   \n",
       "\n",
       "                                        rubro_tokens  \\\n",
       "0  [[, 'agric, ', ,, 'ganaderia, ', ,, 'caza, ', ...   \n",
       "1  [[, 'agric, ', ,, 'ganaderia, ', ,, 'caza, ', ...   \n",
       "2  [[, 'agric, ', ,, 'ganaderia, ', ,, 'caza, ', ...   \n",
       "3  [[, 'agric, ', ,, 'ganaderia, ', ,, 'caza, ', ...   \n",
       "4  [[, 'agric, ', ,, 'ganaderia, ', ,, 'caza, ', ...   \n",
       "\n",
       "                                      agencia_tokens  \\\n",
       "0  [[, 'com, ', ,, 'nacional, ', ,, 'energi, ', ,...   \n",
       "1  [[, 'mayor, ', ,, 'general, ', ,, 'ejercit, ', ]]   \n",
       "2  [[, 'mayor, ', ,, 'general, ', ,, 'ejercit, ', ]]   \n",
       "3  [[, 'mayor, ', ,, 'general, ', ,, 'ejercit, ', ]]   \n",
       "4  [[, 'mayor, ', ,, 'general, ', ,, 'ejercit, ', ]]   \n",
       "\n",
       "                                       objeto_tokens  \n",
       "0                   [[, 'bols, ', ,, 'aliment, ', ]]  \n",
       "1  [[, 'cabez, ', ,, 'gan, ', ,, 'vacun, ', ,, 'l...  \n",
       "2  [[, 'cabez, ', ,, 'gan, ', ,, 'vacun, ', ,, 'l...  \n",
       "3  [[, 'cabez, ', ,, 'gan, ', ,, 'vacun, ', ,, 'l...  \n",
       "4  [[, 'cabez, ', ,, 'gan, ', ,, 'vacun, ', ,, 'l...  "
      ]
     },
     "execution_count": 4,
     "metadata": {},
     "output_type": "execute_result"
    }
   ],
   "source": [
    "df.head()"
   ]
  },
  {
   "cell_type": "markdown",
   "id": "686c12d7",
   "metadata": {},
   "source": [
    "Transformo cada token distinto en un número, y convierto todos los tokens:"
   ]
  },
  {
   "cell_type": "code",
   "execution_count": 5,
   "id": "7becdd86",
   "metadata": {},
   "outputs": [],
   "source": [
    "def assign_numbers(tokens):\n",
    "    \n",
    "    token_to_number = {}\n",
    "    number_to_token = {}\n",
    "    for i, token in enumerate(tokens):\n",
    "        token_to_number[token] = i\n",
    "        number_to_token[i] = token\n",
    "    \n",
    "    return token_to_number, number_to_token\n",
    "\n",
    "rubro_token_to_number, rubro_number_to_token = assign_numbers(df['rubro_tokens'].explode().unique())\n",
    "agencia_token_to_number, agencia_number_to_token = assign_numbers(df['agencia_tokens'].explode().unique())\n",
    "objeto_token_to_number, objeto_number_to_token = assign_numbers(df['objeto_tokens'].explode().unique())\n",
    "\n",
    "df['rubro_numerical'] = df['rubro_tokens'].apply(lambda x: [rubro_token_to_number[token] for token in x])\n",
    "df['agencia_numerical'] = df['agencia_tokens'].apply(lambda x: [agencia_token_to_number[token] for token in x])\n",
    "df['objeto_numerical'] = df['objeto_tokens'].apply(lambda x: [objeto_token_to_number[token] for token in x])"
   ]
  },
  {
   "cell_type": "markdown",
   "id": "5c68d902",
   "metadata": {},
   "source": [
    "Idea: hacer un one-hot encoding: transformamos cada columna (rubro_numerical, agencia_numerical y objeto_numerical) a una matriz de dimensión $(L,N_\\text{max}N_\\text{u})$, donde $N_\\text{max}$ es el largo de la entrada más larga de la columna y $N_\\text{u}$ es la cantidad única de tokens de nuestro diccionario. De esta forma, para una dada fila de una columna (digamos que hay una lista $X$ de tokens $x_j$), el $j-$ésimo elemento de la matriz será 1 si $x_1$ es el valor primer valor del diccionario, y 0 en el resto. Pasamos a $x_2$ y hacemos lo mismo, hasta terminar con la lista. Si el largo de $X$ es menor que $N_\\text{max}$, el resto de las entradas de la matriz correspondiente es cero.\n",
    "\n",
    "Repetimos esto para las otras columnas, concatenamos a lo largo de las filas, y obtenemos el one-hot encoding.\n",
    "\n",
    "**Nota de Santi: CREO que el encoding de palabras a enteros tiene que estar hecho sobre los valores únicos de todo el diccionario. Si no, un 1 en rubro no tiene relación con un 1 en objeto y el sistema no va a aprender nada porque las variables no están correlacionadas, o va a aprender cualquier cosa."
   ]
  },
  {
   "cell_type": "code",
   "execution_count": 29,
   "id": "31bac65f",
   "metadata": {},
   "outputs": [
    {
     "name": "stdout",
     "output_type": "stream",
     "text": [
      "cantidad de columnas de rubro si hago one-hot encoding: 27549589\n",
      "esto va a ocupar: 10263.021662831306 GB\n"
     ]
    }
   ],
   "source": [
    "#fdunciones auxiliares\n",
    "def valores_unicos(df,col):\n",
    "    #obtengo los tokens unicos de todo el dataset\n",
    "    \n",
    "    return df[col].explode().unique()\n",
    "\n",
    "\n",
    "def longest_entry(df,col):\n",
    "    #devuelve la longitud de la lista mas larga en la columna\n",
    "    \n",
    "    def lon_lst(lst):\n",
    "        return len(lst)\n",
    "\n",
    "    return df[col].apply(lon_lst).max()\n",
    "    \n",
    "#------------------------------------------------------------------------------------\n",
    "\n",
    "#creo dataset nuevo con solo las variables numericas nuevas\n",
    "df_num = df[['rubro_numerical','agencia_numerical','objeto_numerical']].copy()\n",
    "\n",
    "#obtengo los tokens unicos\n",
    "rub_unique = valores_unicos(df_num, 'rubro_numerical')\n",
    "age_unique = valores_unicos(df_num, 'agencia_numerical')\n",
    "obj_unique = valores_unicos(df_num, 'objeto_numerical')\n",
    "\n",
    "#obtengo el largo de la entrada mas larga\n",
    "log_en_rub = longest_entry(df_num, 'rubro_numerical')\n",
    "log_en_age = longest_entry(df_num, 'agencia_numerical')\n",
    "log_en_obj = longest_entry(df_num, 'objeto_numerical')\n",
    "\n",
    "print('cantidad de columnas de rubro si hago one-hot encoding:',log_en_obj*len(df_num))\n",
    "print('esto va a ocupar:',32*27549589*100000 / (8*1024**3),'GB')\n",
    "\n"
   ]
  },
  {
   "cell_type": "code",
   "execution_count": 6,
   "id": "QiwlNBFv-iwS",
   "metadata": {
    "colab": {
     "base_uri": "https://localhost:8080/",
     "height": 467
    },
    "id": "QiwlNBFv-iwS",
    "outputId": "9328b1e7-472f-4ec0-bf25-adaada2b8e7c"
   },
   "outputs": [
    {
     "data": {
      "text/html": [
       "<div>\n",
       "<style scoped>\n",
       "    .dataframe tbody tr th:only-of-type {\n",
       "        vertical-align: middle;\n",
       "    }\n",
       "\n",
       "    .dataframe tbody tr th {\n",
       "        vertical-align: top;\n",
       "    }\n",
       "\n",
       "    .dataframe thead th {\n",
       "        text-align: right;\n",
       "    }\n",
       "</style>\n",
       "<table border=\"1\" class=\"dataframe\">\n",
       "  <thead>\n",
       "    <tr style=\"text-align: right;\">\n",
       "      <th></th>\n",
       "      <th>index</th>\n",
       "      <th>referencia</th>\n",
       "      <th>objeto</th>\n",
       "      <th>rubro</th>\n",
       "      <th>agencia</th>\n",
       "      <th>apertura</th>\n",
       "      <th>monto</th>\n",
       "      <th>fuente</th>\n",
       "      <th>rubro_tokens</th>\n",
       "      <th>agencia_tokens</th>\n",
       "      <th>objeto_tokens</th>\n",
       "      <th>rubro_numerical</th>\n",
       "      <th>agencia_numerical</th>\n",
       "      <th>objeto_numerical</th>\n",
       "    </tr>\n",
       "  </thead>\n",
       "  <tbody>\n",
       "    <tr>\n",
       "      <th>0</th>\n",
       "      <td>347</td>\n",
       "      <td>ContrataciÃ³n Directa 464/2017</td>\n",
       "      <td>['bols', 'aliment']</td>\n",
       "      <td>['agric', 'ganaderia', 'caza', 'silvicult']</td>\n",
       "      <td>['com', 'nacional', 'energi', 'atom']</td>\n",
       "      <td>2017-09-29</td>\n",
       "      <td>0.0</td>\n",
       "      <td>Argentinacompra</td>\n",
       "      <td>[[, 'agric, ', ,, 'ganaderia, ', ,, 'caza, ', ...</td>\n",
       "      <td>[[, 'com, ', ,, 'nacional, ', ,, 'energi, ', ,...</td>\n",
       "      <td>[[, 'bols, ', ,, 'aliment, ', ]]</td>\n",
       "      <td>[0, 1, 2, 3, 4, 2, 3, 5, 2, 3, 6, 2, 7]</td>\n",
       "      <td>[0, 1, 2, 3, 4, 2, 3, 5, 2, 3, 6, 2, 7]</td>\n",
       "      <td>[0, 1, 2, 3, 4, 2, 5]</td>\n",
       "    </tr>\n",
       "    <tr>\n",
       "      <th>1</th>\n",
       "      <td>348</td>\n",
       "      <td>Subasta PÃºblica 48/2017</td>\n",
       "      <td>['cabez', 'gan', 'vacun', 'lot', 'novill', 'go...</td>\n",
       "      <td>['agric', 'ganaderia', 'caza', 'silvicult']</td>\n",
       "      <td>['mayor', 'general', 'ejercit']</td>\n",
       "      <td>2017-10-26</td>\n",
       "      <td>0.0</td>\n",
       "      <td>Argentinacompra</td>\n",
       "      <td>[[, 'agric, ', ,, 'ganaderia, ', ,, 'caza, ', ...</td>\n",
       "      <td>[[, 'mayor, ', ,, 'general, ', ,, 'ejercit, ', ]]</td>\n",
       "      <td>[[, 'cabez, ', ,, 'gan, ', ,, 'vacun, ', ,, 'l...</td>\n",
       "      <td>[0, 1, 2, 3, 4, 2, 3, 5, 2, 3, 6, 2, 7]</td>\n",
       "      <td>[0, 8, 2, 3, 9, 2, 3, 10, 2, 7]</td>\n",
       "      <td>[0, 6, 2, 3, 7, 2, 3, 8, 2, 3, 9, 2, 3, 10, 2,...</td>\n",
       "    </tr>\n",
       "    <tr>\n",
       "      <th>2</th>\n",
       "      <td>349</td>\n",
       "      <td>Subasta PÃºblica 47/2017</td>\n",
       "      <td>['cabez', 'gan', 'vacun', 'lot', 'novill', 'go...</td>\n",
       "      <td>['agric', 'ganaderia', 'caza', 'silvicult']</td>\n",
       "      <td>['mayor', 'general', 'ejercit']</td>\n",
       "      <td>2017-10-24</td>\n",
       "      <td>0.0</td>\n",
       "      <td>Argentinacompra</td>\n",
       "      <td>[[, 'agric, ', ,, 'ganaderia, ', ,, 'caza, ', ...</td>\n",
       "      <td>[[, 'mayor, ', ,, 'general, ', ,, 'ejercit, ', ]]</td>\n",
       "      <td>[[, 'cabez, ', ,, 'gan, ', ,, 'vacun, ', ,, 'l...</td>\n",
       "      <td>[0, 1, 2, 3, 4, 2, 3, 5, 2, 3, 6, 2, 7]</td>\n",
       "      <td>[0, 8, 2, 3, 9, 2, 3, 10, 2, 7]</td>\n",
       "      <td>[0, 6, 2, 3, 7, 2, 3, 8, 2, 3, 9, 2, 3, 10, 2,...</td>\n",
       "    </tr>\n",
       "    <tr>\n",
       "      <th>3</th>\n",
       "      <td>350</td>\n",
       "      <td>Subasta PÃºblica 46/2017</td>\n",
       "      <td>['cabez', 'gan', 'vacun', 'lot', 'vac', 'inver...</td>\n",
       "      <td>['agric', 'ganaderia', 'caza', 'silvicult']</td>\n",
       "      <td>['mayor', 'general', 'ejercit']</td>\n",
       "      <td>2017-10-19</td>\n",
       "      <td>0.0</td>\n",
       "      <td>Argentinacompra</td>\n",
       "      <td>[[, 'agric, ', ,, 'ganaderia, ', ,, 'caza, ', ...</td>\n",
       "      <td>[[, 'mayor, ', ,, 'general, ', ,, 'ejercit, ', ]]</td>\n",
       "      <td>[[, 'cabez, ', ,, 'gan, ', ,, 'vacun, ', ,, 'l...</td>\n",
       "      <td>[0, 1, 2, 3, 4, 2, 3, 5, 2, 3, 6, 2, 7]</td>\n",
       "      <td>[0, 8, 2, 3, 9, 2, 3, 10, 2, 7]</td>\n",
       "      <td>[0, 6, 2, 3, 7, 2, 3, 8, 2, 3, 9, 2, 3, 21, 2,...</td>\n",
       "    </tr>\n",
       "    <tr>\n",
       "      <th>4</th>\n",
       "      <td>351</td>\n",
       "      <td>Subasta PÃºblica 45/2017</td>\n",
       "      <td>['cabez', 'gan', 'vacun', 'lot', 'novill', 'go...</td>\n",
       "      <td>['agric', 'ganaderia', 'caza', 'silvicult']</td>\n",
       "      <td>['mayor', 'general', 'ejercit']</td>\n",
       "      <td>2017-10-12</td>\n",
       "      <td>0.0</td>\n",
       "      <td>Argentinacompra</td>\n",
       "      <td>[[, 'agric, ', ,, 'ganaderia, ', ,, 'caza, ', ...</td>\n",
       "      <td>[[, 'mayor, ', ,, 'general, ', ,, 'ejercit, ', ]]</td>\n",
       "      <td>[[, 'cabez, ', ,, 'gan, ', ,, 'vacun, ', ,, 'l...</td>\n",
       "      <td>[0, 1, 2, 3, 4, 2, 3, 5, 2, 3, 6, 2, 7]</td>\n",
       "      <td>[0, 8, 2, 3, 9, 2, 3, 10, 2, 7]</td>\n",
       "      <td>[0, 6, 2, 3, 7, 2, 3, 8, 2, 3, 9, 2, 3, 10, 2,...</td>\n",
       "    </tr>\n",
       "  </tbody>\n",
       "</table>\n",
       "</div>"
      ],
      "text/plain": [
       "   index                      referencia  \\\n",
       "0    347  ContrataciÃ³n Directa 464/2017   \n",
       "1    348        Subasta PÃºblica 48/2017   \n",
       "2    349        Subasta PÃºblica 47/2017   \n",
       "3    350        Subasta PÃºblica 46/2017   \n",
       "4    351        Subasta PÃºblica 45/2017   \n",
       "\n",
       "                                              objeto  \\\n",
       "0                                ['bols', 'aliment']   \n",
       "1  ['cabez', 'gan', 'vacun', 'lot', 'novill', 'go...   \n",
       "2  ['cabez', 'gan', 'vacun', 'lot', 'novill', 'go...   \n",
       "3  ['cabez', 'gan', 'vacun', 'lot', 'vac', 'inver...   \n",
       "4  ['cabez', 'gan', 'vacun', 'lot', 'novill', 'go...   \n",
       "\n",
       "                                         rubro  \\\n",
       "0  ['agric', 'ganaderia', 'caza', 'silvicult']   \n",
       "1  ['agric', 'ganaderia', 'caza', 'silvicult']   \n",
       "2  ['agric', 'ganaderia', 'caza', 'silvicult']   \n",
       "3  ['agric', 'ganaderia', 'caza', 'silvicult']   \n",
       "4  ['agric', 'ganaderia', 'caza', 'silvicult']   \n",
       "\n",
       "                                 agencia    apertura  monto           fuente  \\\n",
       "0  ['com', 'nacional', 'energi', 'atom']  2017-09-29    0.0  Argentinacompra   \n",
       "1        ['mayor', 'general', 'ejercit']  2017-10-26    0.0  Argentinacompra   \n",
       "2        ['mayor', 'general', 'ejercit']  2017-10-24    0.0  Argentinacompra   \n",
       "3        ['mayor', 'general', 'ejercit']  2017-10-19    0.0  Argentinacompra   \n",
       "4        ['mayor', 'general', 'ejercit']  2017-10-12    0.0  Argentinacompra   \n",
       "\n",
       "                                        rubro_tokens  \\\n",
       "0  [[, 'agric, ', ,, 'ganaderia, ', ,, 'caza, ', ...   \n",
       "1  [[, 'agric, ', ,, 'ganaderia, ', ,, 'caza, ', ...   \n",
       "2  [[, 'agric, ', ,, 'ganaderia, ', ,, 'caza, ', ...   \n",
       "3  [[, 'agric, ', ,, 'ganaderia, ', ,, 'caza, ', ...   \n",
       "4  [[, 'agric, ', ,, 'ganaderia, ', ,, 'caza, ', ...   \n",
       "\n",
       "                                      agencia_tokens  \\\n",
       "0  [[, 'com, ', ,, 'nacional, ', ,, 'energi, ', ,...   \n",
       "1  [[, 'mayor, ', ,, 'general, ', ,, 'ejercit, ', ]]   \n",
       "2  [[, 'mayor, ', ,, 'general, ', ,, 'ejercit, ', ]]   \n",
       "3  [[, 'mayor, ', ,, 'general, ', ,, 'ejercit, ', ]]   \n",
       "4  [[, 'mayor, ', ,, 'general, ', ,, 'ejercit, ', ]]   \n",
       "\n",
       "                                       objeto_tokens  \\\n",
       "0                   [[, 'bols, ', ,, 'aliment, ', ]]   \n",
       "1  [[, 'cabez, ', ,, 'gan, ', ,, 'vacun, ', ,, 'l...   \n",
       "2  [[, 'cabez, ', ,, 'gan, ', ,, 'vacun, ', ,, 'l...   \n",
       "3  [[, 'cabez, ', ,, 'gan, ', ,, 'vacun, ', ,, 'l...   \n",
       "4  [[, 'cabez, ', ,, 'gan, ', ,, 'vacun, ', ,, 'l...   \n",
       "\n",
       "                           rubro_numerical  \\\n",
       "0  [0, 1, 2, 3, 4, 2, 3, 5, 2, 3, 6, 2, 7]   \n",
       "1  [0, 1, 2, 3, 4, 2, 3, 5, 2, 3, 6, 2, 7]   \n",
       "2  [0, 1, 2, 3, 4, 2, 3, 5, 2, 3, 6, 2, 7]   \n",
       "3  [0, 1, 2, 3, 4, 2, 3, 5, 2, 3, 6, 2, 7]   \n",
       "4  [0, 1, 2, 3, 4, 2, 3, 5, 2, 3, 6, 2, 7]   \n",
       "\n",
       "                         agencia_numerical  \\\n",
       "0  [0, 1, 2, 3, 4, 2, 3, 5, 2, 3, 6, 2, 7]   \n",
       "1          [0, 8, 2, 3, 9, 2, 3, 10, 2, 7]   \n",
       "2          [0, 8, 2, 3, 9, 2, 3, 10, 2, 7]   \n",
       "3          [0, 8, 2, 3, 9, 2, 3, 10, 2, 7]   \n",
       "4          [0, 8, 2, 3, 9, 2, 3, 10, 2, 7]   \n",
       "\n",
       "                                    objeto_numerical  \n",
       "0                              [0, 1, 2, 3, 4, 2, 5]  \n",
       "1  [0, 6, 2, 3, 7, 2, 3, 8, 2, 3, 9, 2, 3, 10, 2,...  \n",
       "2  [0, 6, 2, 3, 7, 2, 3, 8, 2, 3, 9, 2, 3, 10, 2,...  \n",
       "3  [0, 6, 2, 3, 7, 2, 3, 8, 2, 3, 9, 2, 3, 21, 2,...  \n",
       "4  [0, 6, 2, 3, 7, 2, 3, 8, 2, 3, 9, 2, 3, 10, 2,...  "
      ]
     },
     "execution_count": 6,
     "metadata": {},
     "output_type": "execute_result"
    }
   ],
   "source": [
    "df.head()"
   ]
  },
  {
   "cell_type": "code",
   "execution_count": null,
   "id": "wD7_Ru8G_rao",
   "metadata": {
    "id": "wD7_Ru8G_rao"
   },
   "outputs": [],
   "source": [
    "from sklearn.model_selection import train_test_split\n",
    "from sklearn.ensemble import RandomForestClassifier\n",
    "from sklearn.metrics import accuracy_score, classification_report\n",
    "\n",
    "# Dividir los datos en características (X) y etiquetas (y)\n",
    "X = df[['agencia_encoded', 'objeto_encoded','monto']]  # Ajusta las características según tus necesidades\n",
    "y = df['rubro_encoded']  # Ajusta 'clase' según la columna de etiquetas en tu dataset\n",
    "\n",
    "# Dividir los datos en conjuntos de entrenamiento y prueba\n",
    "X_train, X_test, y_train, y_test = train_test_split(X, y, test_size=0.2, random_state=13)\n",
    "X_train/=np.amax(X_train,axis=0)\n",
    "X_test/=np.amax(X_test,axis=0)\n",
    "\n",
    "\n",
    "y_train.head(100)\n",
    "\n",
    "#y_train/=np.amax(y_train)\n",
    "#y_test/=np.amax(y_test)\n",
    "\n",
    "\n",
    "\n",
    "# # Crear y entrenar el modelo Random Forest\n",
    "# rf_model = RandomForestClassifier(n_estimators=10, random_state=13)\n",
    "# rf_model.fit(X_train, y_train)\n",
    "\n",
    "# # Realizar predicciones en el conjunto de prueba\n",
    "# y_pred = rf_model.predict(X_test)\n",
    "\n",
    "# # Evaluar el rendimiento del modelo\n",
    "# accuracy = accuracy_score(y_test, y_pred)\n",
    "# report = classification_report(y_test, y_pred)\n",
    "\n",
    "# print(\"Accuracy:\", accuracy)\n",
    "# print(\"Classification Report:\\n\", report)\n"
   ]
  },
  {
   "cell_type": "code",
   "execution_count": null,
   "id": "bb8903d9",
   "metadata": {},
   "outputs": [],
   "source": [
    "from sklearn.tree import DecisionTreeClassifier\n",
    "\n",
    "\n",
    "tree_ = DecisionTreeClassifier(max_depth=3, min_samples_leaf=3, random_state=13)\n",
    "tree_.fit(X_train, y_train)\n",
    "y_pred = tree_.predict(X_test)\n",
    "\n",
    "accuracy = accuracy_score(y_test, y_pred)\n",
    "report = classification_report(y_test, y_pred)\n",
    "\n",
    "print(\"Accuracy:\", accuracy)\n",
    "print(\"Classification Report:\\n\", report)"
   ]
  },
  {
   "cell_type": "code",
   "execution_count": null,
   "id": "g4QjyXeiAA5c",
   "metadata": {
    "id": "g4QjyXeiAA5c"
   },
   "outputs": [],
   "source": [
    "import tensorflow as tf\n",
    "from tensorflow import keras\n",
    "from sklearn.preprocessing import StandardScaler\n",
    "\n",
    "# Escalar las características (esto puede variar según las características)\n",
    "scaler = StandardScaler()\n",
    "X_train_scaled = scaler.fit_transform(X_train)\n",
    "X_test_scaled = scaler.transform(X_test)\n",
    "\n",
    "# Crear una arquitectura de red neuronal simple\n",
    "model = keras.Sequential([\n",
    "    keras.layers.Input(shape=(X_train_scaled.shape[1],)),\n",
    "    keras.layers.Dense(64, activation='relu'),\n",
    "    keras.layers.Dense(32, activation='relu'),\n",
    "    keras.layers.Dense(1, activation='softmax')  # Ajusta el número de clases\n",
    "])\n",
    "\n",
    "# Compilar el modelo\n",
    "model.compile(optimizer='adam',\n",
    "              loss='CategoricalCrossentropy',\n",
    "              metrics=['accuracy'])\n",
    "\n",
    "print(model.get_weights())\n",
    "\n",
    "# # Entrenar la red neuronal\n",
    "# model.fit(X_train_scaled, y_train, epochs=10, batch_size=32, validation_split=0.2)\n",
    "\n",
    "# # Evaluar el rendimiento del modelo en el conjunto de prueba\n",
    "# test_loss, test_accuracy = model.evaluate(X_test_scaled, y_test)\n",
    "# print(\"Test Accuracy:\", test_accuracy)\n"
   ]
  }
 ],
 "metadata": {
  "colab": {
   "provenance": []
  },
  "kernelspec": {
   "display_name": "Python 3 (ipykernel)",
   "language": "python",
   "name": "python3"
  },
  "language_info": {
   "codemirror_mode": {
    "name": "ipython",
    "version": 3
   },
   "file_extension": ".py",
   "mimetype": "text/x-python",
   "name": "python",
   "nbconvert_exporter": "python",
   "pygments_lexer": "ipython3",
   "version": "3.11.5"
  },
  "varInspector": {
   "cols": {
    "lenName": 16,
    "lenType": 16,
    "lenVar": 40
   },
   "kernels_config": {
    "python": {
     "delete_cmd_postfix": "",
     "delete_cmd_prefix": "del ",
     "library": "var_list.py",
     "varRefreshCmd": "print(var_dic_list())"
    },
    "r": {
     "delete_cmd_postfix": ") ",
     "delete_cmd_prefix": "rm(",
     "library": "var_list.r",
     "varRefreshCmd": "cat(var_dic_list()) "
    }
   },
   "types_to_exclude": [
    "module",
    "function",
    "builtin_function_or_method",
    "instance",
    "_Feature"
   ],
   "window_display": false
  }
 },
 "nbformat": 4,
 "nbformat_minor": 5
}
