{
 "cells": [
  {
   "cell_type": "markdown",
   "id": "UtZBXCxdajr1",
   "metadata": {
    "id": "UtZBXCxdajr1"
   },
   "source": [
    "**Diplomatura en Ciencia de Datos, Aprendizaje Automático y sus Aplicaciones**\n",
    "\n",
    "---\n",
    "\n",
    "Mentoría #13 - Cómo hacer un Clasificador de Pliegos todoterreno (y de otros tipos de textos) usando NLP\n",
    "\n",
    "---\n",
    "Integrantes Grupo [1|2]:\n",
    "*   Bruce Wayne: bruce.w@wayne-entreprises.com\n",
    "*   Alfred Pennyworth: alfred@msn.com\n",
    "*   Richard Grayson: robin_132@gmail.com\n",
    "---\n",
    "\n",
    "Edición 2023\n"
   ]
  },
  {
   "cell_type": "markdown",
   "id": "YGFbz1dvbFI2",
   "metadata": {
    "id": "YGFbz1dvbFI2"
   },
   "source": [
    "# Introducción\n",
    "\n",
    "En esta Mentoría, trabajaremos con un conjunto de datos que comprende aproximadamente 100.000 pliegos y licitaciones de diversos organismos nacionales, tanto públicos como privados. Estos datos se obtuvieron de un sistema/servicio diseñado para monitorear oportunidades de negocios, capturar la información en una base de datos, normalizarla y, posteriormente, clasificarla para informar a los usuarios según sus áreas de interés. Los usuarios de este sistema reciben alertas automáticas cada vez que se publica una oportunidad comercial que coincide con su perfil.\n",
    "\n",
    "## Desafío\n",
    "\n",
    "Como parte del proceso de clasificación, los pliegos se etiquetan utilizando principalmente reglas estáticas, como palabras clave, lo cual deja margen para optimizaciones. El título de cada pliego y principalmente la descripción de los objetos que se están licitando son campos de tipo texto y escritos por personas, por lo que naturalmente presentan ambigüedades y características propias del lenguaje que llevan a que un enfoque rígido y estático de clasificación, como el actual, resulte limitado y poco eficiente.\n",
    "\n",
    "El Desafío es utilizar las técnicas de Aprendizaje Automático, logrando así un \"Clasificador\" que utilice técnicas de Procesamiento de Lenguaje Natural (NLP) para clasificar de manera más eficiente en qué rubro o categoría se encuentra un pliego, basándose en su texto descriptivo y otros campos relacionados.\n",
    "\n",
    "## Interés General\n",
    "\n",
    "Más allá de la aplicación específica en este conjunto de datos, este problema, al estar vinculado al Procesamiento de Lenguaje Natural (PLN) y la clasificación, tiene la ventaja de poder ser utilizado posteriormente para otros tipos de contenido. De esta manera, el clasificador desarrollado podría aplicarse para categorizar libros, noticias, textos, tweets, publicaciones, artículos, etc.\n",
    "\n",
    "## Descripción del dataset\n",
    "\n",
    "A continuación se enumeran las diferentes variables del dataset, así como una breve descripción de su significado:\n",
    "\n",
    "- **id**: Clave única y primaria autoincremental de la tabla;\n",
    "- **cargado**: Fecha de carga del pliego;\n",
    "- **idexterno**: Id del pliego en la fuente;\n",
    "- **referencia**: Campo auxiliar obtenido de la fuente;\n",
    "- **objeto**: Campo principal, descripción del producto o servicio objeto de la licitación;\n",
    "- **rubro**: Campo de categorización disponible en la fuente. No siempre está disponible;\n",
    "- **agencia**: Empresa o Ente que lanza la licitación;\n",
    "- **apertura**: Fecha de apertura del pliego (vencimiento para presentarse al pliego);\n",
    "- **subrubro**: Subcategoría del pliego (también obtenido desde la fuente);\n",
    "- **pais**: País donde se lanza la licitación;\n",
    "- **observaciones**: Campo auxiliar donde se guardan datos extra que puede variar según la fuente;\n",
    "- **monto**: Monto del pliego, no siempre está publicado;\n",
    "- **divisaSimboloISO**: Moneda en la que se especifica el pliego;\n",
    "- **visible**: campo binario que determina si el pliego va a ser visualizado por el sistema (True/False);\n",
    "- **categoría**: Tipo de pliego, categorización entre diversos tipos de pliegos (Compra Directa, Licitación Simple, Subasta, etc.);\n",
    "- **fuente**: Fuente de donde se obtuvo la licitación."
   ]
  },
  {
   "cell_type": "markdown",
   "id": "eaImQfxeYd8Z",
   "metadata": {
    "id": "eaImQfxeYd8Z"
   },
   "source": [
    "# Trabajo Práctico #2\n",
    "\n",
    "Como vimos en el primer Trabajo Práctico, en esta segunda entrega tenemos como objetivo preparar los datos para poder alimentar un modelo de predicción. Aplicaremos diferentes tipos de prácticas y estrategias para preparar el dataset y resolver todas las cuestiones detectadas en el TP1\n",
    "\n",
    "A continuación se enumeran los ejercicios propuestos como guía:"
   ]
  },
  {
   "cell_type": "markdown",
   "id": "EXILjx8pd2zb",
   "metadata": {
    "id": "EXILjx8pd2zb"
   },
   "source": [
    "## Ejercicio 1: Limpieza de Datos\n",
    "\n",
    "Según lo vimos en el TP1, aplicar las técnicas propuesta para limpiar los datos. En todos los casos, además de aplicar la técnica, redactar brevemente la explicación del criterio tomado.\n",
    "\n",
    "1.   Selección de Variables. Como vimos, hay variables que pueden descartarse.\n",
    "2.   Corrección de los diferentes Tipos de Variables. Aplicar las conversiones de tipo necesarias.\n",
    "3.   Selección de Registros. Filtrar las filas que no utilizaremos para la clasificación.\n",
    "4.   Curación de la variable [monto]. Tip: usar la variable [divisaSimboloISO]\n",
    "5.   Curación de la variable [fecha]. Incluye la eliminación de Outliers.\n",
    "6.   En [agencia], normalizar si es que existen entradas con valores equivalentes.\n",
    "7.   (Opcional) Para las variables categóricas aplicar técnicas de encoding, de manera de ir transformando variables de texto en números que los algoritmos puedan procesar."
   ]
  },
  {
   "cell_type": "markdown",
   "id": "rpbtM0BGkWQ4",
   "metadata": {
    "id": "rpbtM0BGkWQ4"
   },
   "source": [
    "## Ejercicio 2: Variable [rubro]\n",
    "\n",
    "1.   Unificar categorías (rubros) equivalentes entre distintas fuentes. Usar un criterio definido por el grupo y explicarlo en pocas palabras.\n",
    "2.   Utilizar visualizaciones que permitan ver todas las categorías y verificar que sean valores válidos.\n",
    "3.   En caso de haber registros con categorías inválidas, tomar algún criterio para imputar la categoría o eliminar el registro. Desarrollar la decisión tomada.\n",
    "4.   Resolver si se va a utilizar subrubro para aperturar la categorización en algún caso. Definir luego qué postura tomar con respecto a la variable [rubro]\n",
    "5.   En las casos en que existe más de una categoría, tomar alguna postura para que los registros finalmente queden con una única etiqueta."
   ]
  },
  {
   "cell_type": "markdown",
   "id": "07xb2chXeBjx",
   "metadata": {
    "id": "07xb2chXeBjx"
   },
   "source": [
    "## Ejercicio 3: Variable [objeto]\n",
    "\n",
    "1.   Aplicar técnicas de lematización para eliminar artículos, conectores, stop_words en general. Quitar acentos (tildes), mayúsculas, plurales, caractéres inválidos, abreviaturas, etc., dejando solo palabras importantes para la clasificación.\n",
    "2.   Utilizar técnicas de visualización para detectar otros términos muy frecuentes que no aportan valor a la clasificación.\n",
    "3.   (Opcional) Aplicar técnicas de tokenización para convertir la variable objeto en un array de tokens."
   ]
  },
  {
   "cell_type": "markdown",
   "id": "2i0GCYnYhQE6",
   "metadata": {
    "id": "2i0GCYnYhQE6"
   },
   "source": [
    "## Ejercicio 4: Exportación\n",
    "\n",
    "Con el dataset ya transformado, generar una versión final y exportarla a un nuevo archivo. Este es el resultado final del TP2."
   ]
  },
  {
   "cell_type": "markdown",
   "id": "fDj77JylhG3_",
   "metadata": {
    "id": "fDj77JylhG3_"
   },
   "source": [
    "## Ejercicio 5: Análisis\n",
    "\n",
    "En base a todo lo aprendido en las materias obligatorias cursadas, qué tipo de modelos de clasificación piensan que podrían aplicarse al dataset obtenido? Desarrollar brevemente una justificación en comparación con otros modelos posibles."
   ]
  },
  {
   "cell_type": "markdown",
   "id": "14b56da7",
   "metadata": {
    "id": "14b56da7"
   },
   "source": [
    "# Desarrollo"
   ]
  },
  {
   "cell_type": "markdown",
   "id": "da5cec0d",
   "metadata": {
    "id": "da5cec0d"
   },
   "source": [
    "# Librerías\n",
    "\n",
    "Importamos librerías necesarias para la visualización, y para desactivar warnings."
   ]
  },
  {
   "cell_type": "code",
   "execution_count": null,
   "id": "XbgaB6JqjjWy",
   "metadata": {
    "id": "XbgaB6JqjjWy"
   },
   "outputs": [],
   "source": [
    "import pandas as pd\n",
    "import missingno as msno\n",
    "import matplotlib.pyplot as plt\n",
    "import numpy as np\n",
    "import warnings\n",
    "warnings.simplefilter(action='ignore', category=FutureWarning)\n",
    "\n",
    "pd.set_option('display.max_rows', None)\n",
    "pd.options.mode.chained_assignment = None  # default='warn'\n",
    "\n",
    "#levantamos el dataset\n",
    "df = pd.read_csv(\"./datos/Mentoria_Dataset_0.csv\" , encoding='latin-1')"
   ]
  },
  {
   "cell_type": "markdown",
   "id": "f6d2b6d5",
   "metadata": {
    "id": "f6d2b6d5"
   },
   "source": [
    "# Filtrado\n",
    "\n",
    "Primero, hacemos la limpieza del dataset de acuerdo a lo que vimos en el TP1.\n",
    "\n",
    "Empezamos por quedarlos con los datos que tienen *categoría*=1, y las variables *referencia*, *objeto*, *rubro*, *agencia*, *apertura*, *monto* y *fuente*."
   ]
  },
  {
   "cell_type": "code",
   "execution_count": null,
   "id": "BMcav1-2aaJP",
   "metadata": {
    "id": "BMcav1-2aaJP"
   },
   "outputs": [],
   "source": [
    "#tiro los que tienen categoria 2\n",
    "df_fil = df[df['categoria']==1]\n",
    "#variables que decidimos relevantes\n",
    "variables = ['referencia', 'objeto', 'rubro','agencia','apertura','monto','fuente']\n",
    "df_fil = df_fil[variables]"
   ]
  },
  {
   "cell_type": "markdown",
   "id": "94be04b0",
   "metadata": {
    "id": "94be04b0"
   },
   "source": [
    "# Limpieza de las fechas\n",
    "\n",
    "Ahora hacemos la limpieza de las fechas que no tienen sentido:"
   ]
  },
  {
   "cell_type": "code",
   "execution_count": null,
   "id": "2177b870",
   "metadata": {
    "colab": {
     "base_uri": "https://localhost:8080/"
    },
    "id": "2177b870",
    "outputId": "19879a71-2fde-498c-aa81-0590454ce720"
   },
   "outputs": [],
   "source": [
    "#Hacemos el filtrado de fechas hecho en el práctico anterior:\n",
    "\n",
    "today_date = pd.Timestamp.today().date()\n",
    "min_date = pd.to_datetime('13/12/2015')\n",
    "df_fil.reset_index(inplace=True)  #reseteo indices, es util cuando indice=nro de fila\n",
    "\n",
    "#fechas malas que encontramos:\n",
    "fecha_mala1 = df_fil['apertura'][62]\n",
    "fecha_mala2 = df_fil['apertura'][2025]\n",
    "fecha_mala3 = df_fil['apertura'][11907]\n",
    "\n",
    "#removemos las fechas malas\n",
    "df_fil = df_fil.drop(df_fil[df_fil['apertura'] == fecha_mala1].index)\n",
    "df_fil = df_fil.drop(df_fil[df_fil['apertura'] == fecha_mala2].index)\n",
    "df_fil = df_fil.drop(df_fil[df_fil['apertura'] == fecha_mala3].index)\n",
    "\n",
    "#convierto a formato datetime\n",
    "df_fil['apertura'] = pd.to_datetime(df_fil['apertura'],format='%d/%m/%Y %H:%M')\n",
    "df_fil['apertura'] = df_fil['apertura'].dt.tz_localize(None)\n",
    "df_fil['apertura'] = df_fil['apertura'].dt.date\n",
    "\n",
    "#removemos outliers\n",
    "df_fil = df_fil.drop(df_fil[df_fil['apertura'] > today_date].index)\n",
    "df_fil = df_fil.drop(df_fil[pd.to_datetime(df_fil['apertura']) < min_date].index)\n"
   ]
  },
  {
   "cell_type": "markdown",
   "id": "089cf0cf",
   "metadata": {
    "id": "089cf0cf"
   },
   "source": [
    "# Limpieza de la variable monto\n",
    "\n",
    "Limpiamos ahora la variable monto. En las entradas donde han NaN's, las definimos como 0. Además, convertimos dólares a peso y cambiamos strings a valores numéricos."
   ]
  },
  {
   "cell_type": "code",
   "execution_count": null,
   "id": "a5d7564e",
   "metadata": {
    "id": "a5d7564e"
   },
   "outputs": [],
   "source": [
    "#precio del dolar oficial\n",
    "dolar_value = 350\n",
    "\n",
    "df_fil['monto'] = df_fil['monto'].replace(r'\\N', np.nan)\n",
    "df_fil['monto'] = df_fil['monto'].replace('0', 0)\n",
    "df_fil['monto'] = df_fil['monto'].replace('NaN', 0)\n",
    "\n",
    "#remuevo las strings de espacios, pesos y dolares donde las haya. Cambio la representacion de string a float\n",
    "j=0\n",
    "for monto, i in zip(df_fil['monto'],df_fil.index):\n",
    "    if \" \" in str(monto):\n",
    "        df_fil['monto'][i] = str(df_fil['monto'][i]).replace(' ','')\n",
    "    if \"$\" in str(monto):\n",
    "        df_fil['monto'][i] = str(df_fil['monto'][i]).replace('$','')\n",
    "    if \".\" in str(monto):\n",
    "        df_fil['monto'][i] = str(df_fil['monto'][i]).replace('.','')\n",
    "    if \",\" in str(monto):\n",
    "        df_fil['monto'][i] = str(df_fil['monto'][i]).replace(',','.')\n",
    "    if \"U$S\" in str(monto):\n",
    "        df_fil['monto'][i] = str(df_fil['monto'][i]).replace('US','')\n",
    "        #convierto a pesos y reemplazo la entrada\n",
    "        df_fil['monto'][i] = float(df_fil['monto'][i]) * dolar_value\n",
    "        j+=1\n",
    "    df_fil['monto'][i] = float(df_fil['monto'][i])\n"
   ]
  },
  {
   "cell_type": "markdown",
   "id": "b55a3965",
   "metadata": {
    "id": "b55a3965"
   },
   "source": [
    "# Variable Objeto\n",
    "\n",
    "Ahora pasamos a procesar la variable *objeto*.\n",
    "\n",
    "Para empezar, importamos la librería `string` para trabajar con caracteres.\n",
    "Definimos tablas para hacer traducciones de caracteres no deseados, como por ejemplo todos los signos de puntuación, y números.\n",
    "\n",
    "No queremos que haya números en la columna *objeto* porque consideramos que tener, por ejemplo:\n",
    "\n",
    "* direcciones\n",
    "* palabras como '4x4'\n",
    "* precios\n",
    "* cantidad de productos o servicios\n",
    "\n",
    "no aportan nada al desarrollo de esta variable.\n",
    "\n",
    "Además, eliminamos tildes, pasamos todas las palabras a minúsculas y sacamos un montón de caracteres raros.\n",
    "\n",
    "**Warning**: esta celda tarda mucho."
   ]
  },
  {
   "cell_type": "code",
   "execution_count": null,
   "id": "7d7e9c76",
   "metadata": {
    "colab": {
     "base_uri": "https://localhost:8080/"
    },
    "id": "7d7e9c76",
    "outputId": "362c8023-894c-4496-cf0d-f441d8b24228"
   },
   "outputs": [],
   "source": [
    "import string\n",
    "\n",
    "#tabla para reemplazar signos de puntuacion\n",
    "table_punct = str.maketrans(' ', ' ', string.punctuation)\n",
    "#tabla para reemplazar numeros\n",
    "table_num = str.maketrans(' ', ' ', '1234567890')\n",
    "table_otros = str.maketrans(' ', ' ', 'º°¿´ª¨®·¥½ðï¤¾µ')\n",
    "\n",
    "#defino los datasets a limpiar\n",
    "df_test = df_fil[['objeto','rubro']]\n",
    "print(df_test['objeto'][0:50])\n",
    "\n",
    "df_test.reset_index(inplace=True)\n",
    "\n",
    "i=0\n",
    "for i in range (len(df_test)):\n",
    "#for i in range (100):\n",
    "    df_test['objeto'][i] = str(df_test['objeto'][i]).lower()  #pasamos todo a minusculas\n",
    "    df_test['objeto'][i] = str(df_test['objeto'][i]).translate(table_punct) #eliminamos signos de puntuacion\n",
    "    df_test['objeto'][i] = str(df_test['objeto'][i]).translate(table_num) #eliminamos numeros\n",
    "    df_test['objeto'][i] = str(df_test['objeto'][i]).translate(table_otros) #eliminamos acentos y otros\n",
    "\n",
    "    sent = str(df_test['objeto'][i])   # variable a analizar\n",
    "    if \"á\" in sent:\n",
    "        df_test['objeto'][i] = df_test['objeto'][i].replace('á','a')\n",
    "    if \"é\" in sent:\n",
    "        df_test['objeto'][i] = df_test['objeto'][i].replace('é','e')\n",
    "    if \"í\" in sent:\n",
    "        df_test['objeto'][i] = df_test['objeto'][i].replace('í','i')\n",
    "    if \"ó\" in sent:\n",
    "        df_test['objeto'][i] = df_test['objeto'][i].replace('ó','o')\n",
    "    if \"ú\" in sent:\n",
    "        df_test['objeto'][i] = df_test['objeto'][i].replace('ú','u')\n",
    "    if \"à\" in sent:\n",
    "        df_test['objeto'][i] = df_test['objeto'][i].replace('à','u')\n",
    "    if \"è\" in sent:\n",
    "        df_test['objeto'][i] = df_test['objeto'][i].replace('è','u')\n",
    "    if \"ì\" in sent:\n",
    "        df_test['objeto'][i] = df_test['objeto'][i].replace('ì','u')\n",
    "    if \"ò\" in sent:\n",
    "        df_test['objeto'][i] = df_test['objeto'][i].replace('ò','u')\n",
    "    if \"ù\" in sent:\n",
    "        df_test['objeto'][i] = df_test['objeto'][i].replace('ù','u')\n",
    "    if \"ü\" in sent:\n",
    "        df_test['objeto'][i] = df_test['objeto'][i].replace('ü','u')\n",
    "    if \"ë\" in sent:\n",
    "        df_test['objeto'][i] = df_test['objeto'][i].replace('ë','e')\n",
    "    if \"ã\" in sent:\n",
    "        df_test['objeto'][i] = df_test['objeto'][i].replace('ã','a')\n",
    "    if \"ä\" in sent:\n",
    "        df_test['objeto'][i] = df_test['objeto'][i].replace('ä','a')\n",
    "    if \"ø\" in sent:\n",
    "        df_test['objeto'][i] = df_test['objeto'][i].replace('ø','o')\n",
    "    if \"ç\" in sent:\n",
    "        df_test['objeto'][i] = df_test['objeto'][i].replace('ç','c')\n",
    "    if \"ä\" in sent:\n",
    "        df_test['objeto'][i] = df_test['objeto'][i].replace('ä','a')\n",
    "    if \"m²\" in sent:\n",
    "        df_test['objeto'][i] = df_test['objeto'][i].replace('m²','')\n",
    "    if \"m³\" in sent:\n",
    "        df_test['objeto'][i] = df_test['objeto'][i].replace('m³','')\n",
    "    if \"û\" in sent:\n",
    "        df_test['objeto'][i] = df_test['objeto'][i].replace('û','u')\n",
    "    if \"ö\" in sent:\n",
    "        df_test['objeto'][i] = df_test['objeto'][i].replace('ö','o')\n",
    "    if '\\x94' in sent:\n",
    "        df_test['objeto'][i] = df_test['objeto'][i].replace('\\x94',' ')\n",
    "    if '\\x92' in sent:\n",
    "        df_test['objeto'][i] = df_test['objeto'][i].replace('\\x92',' ')\n",
    "    if '\\x91' in sent:\n",
    "        df_test['objeto'][i] = df_test['objeto'][i].replace('\\x91',' ')\n",
    "    if '\\xad' in sent:\n",
    "        df_test['objeto'][i] = df_test['objeto'][i].replace('\\xad',' ')\n",
    "    if '\\x95' in sent:\n",
    "        df_test['objeto'][i] = df_test['objeto'][i].replace('\\x95',' ')\n",
    "    if '\\x81' in sent:\n",
    "        df_test['objeto'][i] = df_test['objeto'][i].replace('\\x81',' ')\n",
    "    if '\\x99' in sent:\n",
    "        df_test['objeto'][i] = df_test['objeto'][i].replace('\\x99',' ')\n",
    "    if '\\x8d' in sent:\n",
    "        df_test['objeto'][i] = df_test['objeto'][i].replace('\\x8d',' ')\n",
    "    if '\\x96' in sent:\n",
    "        df_test['objeto'][i] = df_test['objeto'][i].replace('\\x96',' ')\n",
    "    if '\\x93' in sent:\n",
    "        df_test['objeto'][i] = df_test['objeto'][i].replace('\\x93',' ')\n",
    "\n",
    "    i+=1\n",
    "\n",
    "print(df_test['objeto'][0:50])\n"
   ]
  },
  {
   "cell_type": "markdown",
   "id": "4330a23c",
   "metadata": {
    "id": "4330a23c"
   },
   "source": [
    "Ahora, pasamos a utilizar librerías específicas de PLN para tokenizar y lematizar las entradas del dataset.\n",
    "\n",
    "Para eso, usamos la librería `nltk`.\n",
    "\n",
    "`word_tokenize` es una función para convertir a una oración (una string larga) en una lista de sus palabras constituyentes. Cada entrada de dicha lista se denomina **token**.\n",
    "\n",
    "`stopwords` es una lista de palabras conectoras que no aportan nada de información en un modelo de PLN y que sólo aumentan la dimensionalidad del problema.\n",
    "\n",
    "`SnowballStemmer` Es la función que vamos a utilizar para convertir a cada palabra en su raíz, y así agrupamos muchas palabras que contengan la misma información (por ejemplo 'mantener' y 'mantenimiento').\n"
   ]
  },
  {
   "cell_type": "code",
   "execution_count": null,
   "id": "4b1f285b",
   "metadata": {
    "colab": {
     "base_uri": "https://localhost:8080/"
    },
    "id": "4b1f285b",
    "outputId": "63dc969e-78fa-493e-c3d5-010ffb2121de",
    "scrolled": true
   },
   "outputs": [],
   "source": [
    "import nltk\n",
    "from nltk.tokenize import word_tokenize\n",
    "from nltk.corpus import stopwords\n",
    "from nltk.stem import SnowballStemmer\n",
    "\n",
    "nltk.download('stopwords')\n",
    "nltk.download('wordnet')\n",
    "nltk.download('punkt')\n",
    "\n",
    "#funcion para lematizar una palabra\n",
    "def lemmatize_word(word):\n",
    "    stemmer = SnowballStemmer('spanish')\n",
    "    return stemmer.stem(word)\n"
   ]
  },
  {
   "cell_type": "markdown",
   "id": "b5b34c6e",
   "metadata": {
    "id": "b5b34c6e"
   },
   "source": [
    "Vemos que en las 1000 primeras entradas del dataset, hay algún NaN que quedó dando vueltas que se convirtió en string. Removemos esas entradas."
   ]
  },
  {
   "cell_type": "code",
   "execution_count": null,
   "id": "28f555a5",
   "metadata": {
    "colab": {
     "base_uri": "https://localhost:8080/"
    },
    "id": "28f555a5",
    "outputId": "cb4c87f5-1d3b-47b1-95cd-600e4b25df50"
   },
   "outputs": [],
   "source": [
    "\n",
    "df_test0 = df_test.copy()\n",
    "\n",
    "print(df_test0['objeto'][:15])\n",
    "#elimino algunos nans que aparecen\n",
    "df_test0 = df_test0.drop(df_test0[df_test0['objeto']=='nan'].index)\n",
    "print('*'*100)\n",
    "print(df_test0['objeto'][:15])\n"
   ]
  },
  {
   "cell_type": "markdown",
   "id": "28530ad6",
   "metadata": {
    "id": "28530ad6"
   },
   "source": [
    "Ahora tokenizamos la variable para trabajar mejor con elementos individuales:"
   ]
  },
  {
   "cell_type": "code",
   "execution_count": null,
   "id": "1c19770b",
   "metadata": {
    "colab": {
     "base_uri": "https://localhost:8080/"
    },
    "id": "1c19770b",
    "outputId": "26301b5f-9559-4c22-acca-871fcc87f142"
   },
   "outputs": [],
   "source": [
    "df_test1 = df_test0.copy()\n",
    "\n",
    "print('antes de tokenizar:')\n",
    "print()\n",
    "print(df_test1['objeto'][0:10])\n",
    "print('-'*100)\n",
    "print('después de tokenizar:')\n",
    "print()\n",
    "df_test1['objeto'] = df_test1['objeto'].apply(word_tokenize)\n",
    "print(df_test1['objeto'][:10])\n"
   ]
  },
  {
   "cell_type": "markdown",
   "id": "b57b205c",
   "metadata": {
    "id": "b57b205c"
   },
   "source": [
    "Para tener una idea de la distribución de palabras, definimos una función que devuelve una lista con la cantidad de veces que cada palabra se repite:"
   ]
  },
  {
   "cell_type": "code",
   "execution_count": null,
   "id": "754207b5",
   "metadata": {
    "id": "754207b5"
   },
   "outputs": [],
   "source": [
    "def CountWords(df,column='objeto'):\n",
    "    '''\n",
    "    funcion para contar la ocurrencia de palabras en una columna de un dataset.\n",
    "    La columna ya tiene que venir tokenizada\n",
    "    '''\n",
    "\n",
    "    df1 = df.copy()\n",
    "\n",
    "    # Unimos las palabras lematizadas\n",
    "    df1 = df1[column].apply(lambda words: ' '.join(words))\n",
    "    entire_words = \"\".join(' '+item for item in df1) #el espacio ' ' es para que no pegue palabras\n",
    "    list_ = entire_words.split()\n",
    "    df_list = pd.DataFrame(list_,columns=['palabras'])\n",
    "    counts = df_list.value_counts()\n",
    "\n",
    "    return counts\n"
   ]
  },
  {
   "cell_type": "markdown",
   "id": "93103001",
   "metadata": {
    "id": "93103001"
   },
   "source": [
    "Utilicemos esta función para ver cómo v quedando nuestro dataset:"
   ]
  },
  {
   "cell_type": "code",
   "execution_count": null,
   "id": "e40a126d",
   "metadata": {
    "colab": {
     "base_uri": "https://localhost:8080/"
    },
    "id": "e40a126d",
    "outputId": "8bdded80-0da5-4201-cd98-5d71f1ef90f6"
   },
   "outputs": [],
   "source": [
    "counts = CountWords(df_test1)\n",
    "print(counts[:1000])\n"
   ]
  },
  {
   "cell_type": "markdown",
   "id": "ae088e62",
   "metadata": {
    "id": "ae088e62"
   },
   "source": [
    "Ahora, eliminamos stopwords y palabras que se repiten bastante, que creemos que no aportan nada al modelo:"
   ]
  },
  {
   "cell_type": "code",
   "execution_count": null,
   "id": "64620cb1",
   "metadata": {
    "colab": {
     "base_uri": "https://localhost:8080/"
    },
    "id": "64620cb1",
    "outputId": "82f7505a-621b-4c6d-f9c0-ea5ce84dc311",
    "scrolled": false
   },
   "outputs": [],
   "source": [
    "df_test2 = df_test1.copy()\n",
    "print('Removemos stopwords:')\n",
    "print()\n",
    "stop_words = set(stopwords.words('spanish'))\n",
    "df_test2['objeto'] = df_test2['objeto'].apply(lambda words: [word for word in words if word not in stop_words])\n",
    "print(df_test2['objeto'][:20])\n",
    "print('*'*100)\n",
    "print('Removemos palabras que creemos que no aportan nada al dataset:')\n",
    "print()\n",
    "adq_list = ['adquisicion','adq','adquis', 'adquirir', 'adquisiion',\n",
    "            'contrato','contratacion', 'compra', 'provision',\n",
    "            'servicio','alquiler','alq','subasta', 'locacion',\n",
    "            'monto','estimado', 'renovacion']\n",
    "df_test2['objeto'] = df_test2['objeto'].apply(lambda words: [word for word in words if word not in adq_list])\n",
    "print(df_test2['objeto'][:20])\n"
   ]
  },
  {
   "cell_type": "markdown",
   "id": "9b184df1",
   "metadata": {
    "id": "9b184df1"
   },
   "source": [
    "Vemos que la distribución de palabras se va achicando y tienden a quedar palabras importantes. Sigue habiendo cosas que no estamos seguros de remover o no, como 'n' o 'er'."
   ]
  },
  {
   "cell_type": "code",
   "execution_count": null,
   "id": "89dc8567",
   "metadata": {
    "colab": {
     "base_uri": "https://localhost:8080/"
    },
    "id": "89dc8567",
    "outputId": "2acb24b0-53fd-456d-9110-051875fced46"
   },
   "outputs": [],
   "source": [
    "counts = CountWords(df_test2)\n",
    "print(counts[:100])"
   ]
  },
  {
   "cell_type": "markdown",
   "id": "5d3cfab2",
   "metadata": {
    "id": "5d3cfab2"
   },
   "source": [
    "Finalmente, aplico la lematización para reducir las palabras a su raíz:"
   ]
  },
  {
   "cell_type": "code",
   "execution_count": null,
   "id": "a1232d4e",
   "metadata": {
    "colab": {
     "base_uri": "https://localhost:8080/"
    },
    "id": "a1232d4e",
    "outputId": "cc94b1db-6663-47d7-e50c-82de29dd6bd5"
   },
   "outputs": [],
   "source": [
    "df_test3 = df_test2.copy()\n",
    "print('Aplicamos lematización a cada palabra')\n",
    "print()\n",
    "df_test3 = df_test3.copy()\n",
    "df_test3['objeto'] = df_test3['objeto'].apply(lambda words: [lemmatize_word(word) for word in words])\n",
    "print(df_test3['objeto'][:20])\n",
    "print('*'*100)"
   ]
  },
  {
   "cell_type": "markdown",
   "id": "6023e811",
   "metadata": {
    "id": "6023e811"
   },
   "source": [
    "Muchas de las palabras lematizadas que aparecen sólo una vez no tienen sentido, algunas porque están mal escritas, otras porque son mezclas de palabras. Vemos que casi la mitad de las palabras distintas de la variable *objeto* aparecen sólo una vez, y son representan el el 2% del dataset.\n",
    "\n",
    "**Pregunta para el grupo:** Tiene sentido eliminar todas esas palabras?"
   ]
  },
  {
   "cell_type": "code",
   "execution_count": null,
   "id": "d21c4055",
   "metadata": {
    "colab": {
     "base_uri": "https://localhost:8080/"
    },
    "id": "d21c4055",
    "outputId": "e61b161d-3b9f-4e75-85cd-9c026a2d479a"
   },
   "outputs": [],
   "source": [
    "counts = CountWords(df_test3)\n",
    "nwords = np.sum(counts)\n",
    "\n",
    "print(counts[-20:])\n",
    "print('*'*100)\n",
    "print('nro de palabras que aparecen sólo una vez: ',len([item for item in counts if item==1]))\n",
    "print('fracción del total de palabras que representan: ',len([item for item in counts if item==1])/nwords)\n",
    "\n",
    "print('cantidad de palabras distintas:',len(counts))\n",
    "print('cantidad total de palabras: ',nwords)\n",
    "print('las 1000 palabras más frecuentes abarcan el '+str(round(np.sum(counts[:1000])/nwords*100,2))+'% del total')\n",
    "print('las 2000 palabras más frecuentes abarcan el '+str(round(np.sum(counts[:2000])/nwords*100,2))+'% del total')\n",
    "print('las 5000 palabras más frecuentes abarcan el '+str(round(np.sum(counts[:5000])/nwords*100,2))+'% del total')\n",
    "print('las 10000 palabras más frecuentes abarcan el '+str(round(np.sum(counts[:10000])/nwords*100,2))+'% del total')\n",
    "print('las 20000 palabras más frecuentes abarcan el '+str(round(np.sum(counts[:20000])/nwords*100,2))+'% del total')\n"
   ]
  },
  {
   "cell_type": "markdown",
   "id": "7c036870",
   "metadata": {
    "id": "7c036870"
   },
   "source": [
    "**pregunta al grupo:** Esto no se si tiene que ir o no, no se qué les parece si remover todas esas palabras"
   ]
  },
  {
   "cell_type": "code",
   "execution_count": null,
   "id": "cc702370",
   "metadata": {
    "colab": {
     "base_uri": "https://localhost:8080/"
    },
    "id": "cc702370",
    "outputId": "150a3112-19ee-4d04-eef4-6364a81fb0b0"
   },
   "outputs": [],
   "source": [
    "df_test4 = df_test3.copy()\n",
    "df_test4.reset_index(inplace=True)\n",
    "\n",
    "#viendo las 1000 palabras mas usadas, creemos que se pueden remover todoas estas palabras:\n",
    "a_remover_lst = ['er','año','años','ordoñez','trim','do','etc','pte','sg','to','x',\n",
    "'sa','grl','b','ii','nro','ra','at','usd','in','srl','expte','kg'\n",
    "'iii','rn','g','v','mm','hs','m','pn','t','et','av','xii','bv','n','p']\n",
    "\n",
    "for i in range(len(df_test4)):\n",
    "    list_ = df_test4['objeto'][i]\n",
    "    for word in list_:\n",
    "        if word in a_remover_lst:\n",
    "            df_test4['objeto'][i].remove(word)\n",
    "\n",
    "counts2 = CountWords(df_test4)\n",
    "\n",
    "for i in range(1000):\n",
    "#    print(i,counts_lem.index[i],counts_lem.values[i])\n",
    "    print(i,counts2.index[i],counts2.values[i])\n",
    "#    print('-'*100)"
   ]
  },
  {
   "cell_type": "code",
   "execution_count": null,
   "id": "xwT6a-FB6stk",
   "metadata": {
    "colab": {
     "base_uri": "https://localhost:8080/"
    },
    "id": "xwT6a-FB6stk",
    "outputId": "3ca1f046-3cd6-4f52-d57b-c566ec22aabc"
   },
   "outputs": [],
   "source": [
    "df_fil['monto'].fillna(0, inplace=True)\n",
    "df_fil['monto']"
   ]
  },
  {
   "cell_type": "code",
   "execution_count": null,
   "id": "OIVkubma5OvD",
   "metadata": {
    "colab": {
     "base_uri": "https://localhost:8080/",
     "height": 206
    },
    "id": "OIVkubma5OvD",
    "outputId": "e4919b0e-098f-4b02-9767-63c5d3d52385"
   },
   "outputs": [],
   "source": [
    "#df_test4.head()\n",
    "\n",
    "df_fil[['objeto', 'rubro']] = df_test4[['objeto', 'rubro']].copy()\n",
    "\n",
    "# Guarda el nuevo dataset en un archivo CSV o en el formato deseado\n",
    "df_fil.to_csv('dataset_concatenado.csv', index=False)\n",
    "\n",
    "df_fil.head()"
   ]
  },
  {
   "cell_type": "markdown",
   "id": "EnMiQljX2O3s",
   "metadata": {
    "id": "EnMiQljX2O3s"
   },
   "source": [
    "# Limpieza de la variable Rubro"
   ]
  },
  {
   "cell_type": "code",
   "execution_count": null,
   "id": "WUq-Xhp52T9Y",
   "metadata": {
    "colab": {
     "base_uri": "https://localhost:8080/"
    },
    "id": "WUq-Xhp52T9Y",
    "outputId": "81d1d1eb-a09b-41cd-d55b-291e739b947a"
   },
   "outputs": [],
   "source": [
    "df_fil['rubro']"
   ]
  },
  {
   "cell_type": "code",
   "execution_count": null,
   "id": "9n5NJHd-4RQ5",
   "metadata": {
    "id": "9n5NJHd-4RQ5"
   },
   "outputs": [],
   "source": [
    "import string\n",
    "#tabla para reemplazar signos de puntuacion\n",
    "table_punct = str.maketrans(string.punctuation, ' '*len(string.punctuation))\n",
    "#tabla para reemplazar numeros\n",
    "table_num = str.maketrans('1234567890', ' '*len('1234567890') )\n",
    "table_otros = str.maketrans('º°¿´ª¨®·¥½ðï¤¾µ', ' '*len('º°¿´ª¨®·¥½ðï¤¾µ'))\n",
    "\n",
    "#defino los datasets a limpiar\n",
    "df_test = df_fil[['objeto','rubro']].copy()\n",
    "\n",
    "#esto es para reemplazar el encoding horrible de html\n",
    "df_test.reset_index(inplace=True)\n",
    "import html\n",
    "\n",
    "for i in range (len(df_test)):\n",
    "    df_test['rubro'][i] = html.unescape(str(df_test['rubro'][i]))\n",
    "\n",
    "\n",
    "\n",
    "i=0\n",
    "for i in range (len(df_test)):\n",
    "#for i in range (100):\n",
    "    df_test['rubro'][i] = str(df_test['rubro'][i]).lower()  #pasamos todo a minusculas\n",
    "    df_test['rubro'][i] = str(df_test['rubro'][i]).translate(table_punct) #eliminamos signos de puntuacion\n",
    "    df_test['rubro'][i] = str(df_test['rubro'][i]).translate(table_num) #eliminamos numeros\n",
    "    df_test['rubro'][i] = str(df_test['rubro'][i]).translate(table_otros) #eliminamos acentos y otros\n",
    "\n",
    "    sent = str(df_test['rubro'][i])   # variable a analizar\n",
    "    if \"á\" in sent:\n",
    "        df_test['rubro'][i] = df_test['rubro'][i].replace('á','a')\n",
    "    if \"é\" in sent:\n",
    "        df_test['rubro'][i] = df_test['rubro'][i].replace('é','e')\n",
    "    if \"í\" in sent:\n",
    "        df_test['rubro'][i] = df_test['rubro'][i].replace('í','i')\n",
    "    if \"ó\" in sent:\n",
    "        df_test['rubro'][i] = df_test['rubro'][i].replace('ó','o')\n",
    "    if \"ú\" in sent:\n",
    "        df_test['rubro'][i] = df_test['rubro'][i].replace('ú','u')\n",
    "    if \"à\" in sent:\n",
    "        df_test['rubro'][i] = df_test['rubro'][i].replace('à','u')\n",
    "    if \"è\" in sent:\n",
    "        df_test['rubro'][i] = df_test['rubro'][i].replace('è','u')\n",
    "    if \"ì\" in sent:\n",
    "        df_test['rubro'][i] = df_test['rubro'][i].replace('ì','u')\n",
    "    if \"ò\" in sent:\n",
    "        df_test['rubro'][i] = df_test['rubro'][i].replace('ò','u')\n",
    "    if \"ù\" in sent:\n",
    "        df_test['rubro'][i] = df_test['rubro'][i].replace('ù','u')\n",
    "    if \"ü\" in sent:\n",
    "        df_test['rubro'][i] = df_test['rubro'][i].replace('ü','u')\n",
    "    if \"ë\" in sent:\n",
    "        df_test['rubro'][i] = df_test['rubro'][i].replace('ë','e')\n",
    "    if \"ã\" in sent:\n",
    "        df_test['rubro'][i] = df_test['rubro'][i].replace('ã','a')\n",
    "    if \"ä\" in sent:\n",
    "        df_test['rubro'][i] = df_test['rubro'][i].replace('ä','a')\n",
    "    if \"ø\" in sent:\n",
    "        df_test['rubro'][i] = df_test['rubro'][i].replace('ø','o')\n",
    "    if \"ç\" in sent:\n",
    "        df_test['rubro'][i] = df_test['rubro'][i].replace('ç','c')\n",
    "    if \"ä\" in sent:\n",
    "        df_test['rubro'][i] = df_test['rubro'][i].replace('ä','a')\n",
    "    if \"m²\" in sent:\n",
    "        df_test['rubro'][i] = df_test['rubro'][i].replace('m²','')\n",
    "    if \"m³\" in sent:\n",
    "        df_test['rubro'][i] = df_test['rubro'][i].replace('m³','')\n",
    "    if \"û\" in sent:\n",
    "        df_test['rubro'][i] = df_test['rubro'][i].replace('û','u')\n",
    "    if \"ö\" in sent:\n",
    "        df_test['rubro'][i] = df_test['rubro'][i].replace('ö','o')\n",
    "#     if '\\x94' in sent:\n",
    "#         df_test['rubro'][i] = df_test['rubro'][i].replace('\\x94',' ') #sombrero\n",
    "#     if '\\x92' in sent:\n",
    "#         df_test['rubro'][i] = df_test['rubro'][i].replace('\\x92',' ') #tilde\n",
    "#     if '\\x91' in sent:\n",
    "#         df_test['rubro'][i] = df_test['rubro'][i].replace('\\x91',' ') #esto es una eñe\n",
    "#     if '\\xad' in sent:\n",
    "#         df_test['rubro'][i] = df_test['rubro'][i].replace('\\xad',' ')\n",
    "#     if '\\x95' in sent:\n",
    "#         df_test['rubro'][i] = df_test['rubro'][i].replace('\\x95',' ')\n",
    "#     if '\\x81' in sent:\n",
    "#         df_test['rubro'][i] = df_test['rubro'][i].replace('\\x81',' ')\n",
    "#     if '\\x99' in sent:\n",
    "#         df_test['rubro'][i] = df_test['rubro'][i].replace('\\x99',' ')\n",
    "#     if '\\x8d' in sent:\n",
    "#         df_test['rubro'][i] = df_test['rubro'][i].replace('\\x8d',' ')\n",
    "#     if '\\x96' in sent:\n",
    "#         df_test['rubro'][i] = df_test['rubro'][i].replace('\\x96',' ')\n",
    "#     if '\\x93' in sent:\n",
    "#         df_test['rubro'][i] = df_test['rubro'][i].replace('\\x93',' ')\n",
    "\n",
    "    i+=1\n",
    "\n"
   ]
  },
  {
   "cell_type": "code",
   "execution_count": null,
   "id": "1GaiaaGs8KGh",
   "metadata": {
    "colab": {
     "base_uri": "https://localhost:8080/"
    },
    "id": "1GaiaaGs8KGh",
    "outputId": "a201cf2e-692b-42b0-b251-c1a0a06d08d1"
   },
   "outputs": [],
   "source": [
    "df_test0 = df_test.copy()\n",
    "\n",
    "print(df_test0['rubro'][:1000])\n",
    "#elimino algunos nans que aparecen\n",
    "df_test0 = df_test0.drop(df_test0[df_test0['rubro']=='nan'].index)\n",
    "print('*'*100)\n",
    "print(df_test0['rubro'][:30000])"
   ]
  },
  {
   "cell_type": "code",
   "execution_count": null,
   "id": "6trV9tSfJlvD",
   "metadata": {
    "colab": {
     "base_uri": "https://localhost:8080/"
    },
    "id": "6trV9tSfJlvD",
    "outputId": "b41a8abb-373f-464f-ead9-cac31a5ff6cd"
   },
   "outputs": [],
   "source": [
    "df_test1 = df_test0.copy()\n",
    "\n",
    "print('antes de tokenizar:')\n",
    "print()\n",
    "print(df_test1['rubro'][0:10])\n",
    "print('-'*100)\n",
    "print('después de tokenizar:')\n",
    "print()\n",
    "df_test1['rubro'] = df_test1['rubro'].apply(word_tokenize)\n",
    "print(df_test1['rubro'][:30000])"
   ]
  },
  {
   "cell_type": "code",
   "execution_count": null,
   "id": "gPZbpv7AJyCj",
   "metadata": {
    "id": "gPZbpv7AJyCj"
   },
   "outputs": [],
   "source": [
    "def CountWords(df,column='rubro'):\n",
    "    '''\n",
    "    funcion para contar la ocurrencia de palabras en una columna de un dataset.\n",
    "    La columna ya tiene que venir tokenizada\n",
    "    '''\n",
    "\n",
    "    df1 = df.copy()\n",
    "\n",
    "    # Unimos las palabras lematizadas\n",
    "    df1 = df1[column].apply(lambda words: ' '.join(words))\n",
    "    entire_words = \"\".join(''+item for item in df1) #el espacio ' ' es para que no pegue palabras\n",
    "    list_ = entire_words.split()\n",
    "    df_list = pd.DataFrame(list_,columns=['palabras'])\n",
    "    counts = df_list.value_counts()\n",
    "\n",
    "    return counts"
   ]
  },
  {
   "cell_type": "code",
   "execution_count": null,
   "id": "RDPypnU2KCJ0",
   "metadata": {
    "colab": {
     "base_uri": "https://localhost:8080/"
    },
    "id": "RDPypnU2KCJ0",
    "outputId": "17cbdddf-7357-4011-8df9-a73fe8befdbc"
   },
   "outputs": [],
   "source": [
    "counts = CountWords(df_test1)\n",
    "print(counts[:1000])\n"
   ]
  },
  {
   "cell_type": "code",
   "execution_count": null,
   "id": "JH3DdusfKryE",
   "metadata": {
    "colab": {
     "base_uri": "https://localhost:8080/"
    },
    "id": "JH3DdusfKryE",
    "outputId": "ecc7eedc-1f3d-4a81-e6af-1cfe945831fc"
   },
   "outputs": [],
   "source": [
    "df_test2 = df_test1.copy()\n",
    "print('Removemos stopwords:')\n",
    "print()\n",
    "stop_words = set(stopwords.words('spanish'))\n",
    "df_test2['rubro'] = df_test2['rubro'].apply(lambda words: [word for word in words if word not in stop_words])\n",
    "print(df_test2['rubro'][:20])\n",
    "print('*'*100)\n",
    "print('Removemos palabras que creemos que no aportan nada al dataset:')\n",
    "print()\n",
    "adq_list = ['y','de','para', 'del', 'e',\n",
    "            'la','yo', 'uso', 'nbsp',\n",
    "            'sus','el','gral','no', 'en',\n",
    "            'p','puso', 'los','x','d','eq',\n",
    "            'a','he','h','o','per','tr' ,'te',\n",
    "            'co','me','qu','na','l','s','in','i']\n",
    "df_test2['rubro'] = df_test2['rubro'].apply(lambda words: [word for word in words if word not in adq_list])\n",
    "print(df_test2['rubro'][:20])\n"
   ]
  },
  {
   "cell_type": "code",
   "execution_count": null,
   "id": "1bd95869",
   "metadata": {},
   "outputs": [],
   "source": [
    "counts = CountWords(df_test2)\n",
    "print(counts[:1000])"
   ]
  },
  {
   "cell_type": "code",
   "execution_count": null,
   "id": "ZeYpJD7SSrAv",
   "metadata": {
    "colab": {
     "base_uri": "https://localhost:8080/"
    },
    "id": "ZeYpJD7SSrAv",
    "outputId": "8469b8c5-ec75-49eb-f6f1-bc3f25218b70"
   },
   "outputs": [],
   "source": [
    "df_fil['rubro'].fillna(0)"
   ]
  },
  {
   "cell_type": "code",
   "execution_count": null,
   "id": "NfpAep3YOed1",
   "metadata": {
    "colab": {
     "base_uri": "https://localhost:8080/",
     "height": 206
    },
    "id": "NfpAep3YOed1",
    "outputId": "f3768ad6-539a-4112-da54-7c0b6ac78b60"
   },
   "outputs": [],
   "source": [
    "df_fil[['rubro']] = df_test2[['rubro']]\n",
    "\n",
    "# Guarda el nuevo dataset en un archivo CSV o en el formato deseado\n",
    "df_fil.to_csv('dataset_concatenado.csv', index=False)\n",
    "\n",
    "df_fil.tail()"
   ]
  },
  {
   "cell_type": "code",
   "execution_count": null,
   "id": "kBCGYPtRO26Y",
   "metadata": {
    "id": "kBCGYPtRO26Y"
   },
   "outputs": [],
   "source": []
  }
 ],
 "metadata": {
  "celltoolbar": "Edit Metadata",
  "colab": {
   "provenance": []
  },
  "kernelspec": {
   "display_name": "Python 3 (ipykernel)",
   "language": "python",
   "name": "python3"
  },
  "language_info": {
   "codemirror_mode": {
    "name": "ipython",
    "version": 3
   },
   "file_extension": ".py",
   "mimetype": "text/x-python",
   "name": "python",
   "nbconvert_exporter": "python",
   "pygments_lexer": "ipython3",
   "version": "3.10.11"
  },
  "varInspector": {
   "cols": {
    "lenName": 16,
    "lenType": 16,
    "lenVar": 40
   },
   "kernels_config": {
    "python": {
     "delete_cmd_postfix": "",
     "delete_cmd_prefix": "del ",
     "library": "var_list.py",
     "varRefreshCmd": "print(var_dic_list())"
    },
    "r": {
     "delete_cmd_postfix": ") ",
     "delete_cmd_prefix": "rm(",
     "library": "var_list.r",
     "varRefreshCmd": "cat(var_dic_list()) "
    }
   },
   "types_to_exclude": [
    "module",
    "function",
    "builtin_function_or_method",
    "instance",
    "_Feature"
   ],
   "window_display": false
  }
 },
 "nbformat": 4,
 "nbformat_minor": 5
}
